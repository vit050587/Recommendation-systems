{
  "nbformat": 4,
  "nbformat_minor": 0,
  "metadata": {
    "colab": {
      "provenance": [],
      "authorship_tag": "ABX9TyMKrw7G12zsdAPf2GhjsCkq",
      "include_colab_link": true
    },
    "kernelspec": {
      "name": "python3",
      "display_name": "Python 3"
    },
    "language_info": {
      "name": "python"
    }
  },
  "cells": [
    {
      "cell_type": "markdown",
      "metadata": {
        "id": "view-in-github",
        "colab_type": "text"
      },
      "source": [
        "<a href=\"https://colab.research.google.com/github/vit050587/Recommendation-systems/blob/master/CoursLabRetail.ipynb\" target=\"_parent\"><img src=\"https://colab.research.google.com/assets/colab-badge.svg\" alt=\"Open In Colab\"/></a>"
      ]
    },
    {
      "cell_type": "markdown",
      "source": [
        "# Курсовой проект курса \"Рекомендательные системы\""
      ],
      "metadata": {
        "id": "w5yJ68L7mfFi"
      }
    },
    {
      "cell_type": "markdown",
      "source": [
        "retail-датасет: данные о покупках 2.5k клиентов 80k товаров, признаковое \n",
        "описание пользователей и товаров. 3 недели покупок недоступны."
      ],
      "metadata": {
        "id": "LOudLxOmmyxb"
      }
    },
    {
      "cell_type": "code",
      "source": [
        "from google.colab import drive\n",
        "drive.mount('/content/drive')"
      ],
      "metadata": {
        "colab": {
          "base_uri": "https://localhost:8080/"
        },
        "id": "ElJHvJqHndCL",
        "outputId": "0b258c7f-063c-4959-c698-8604814b430f"
      },
      "execution_count": 45,
      "outputs": [
        {
          "output_type": "stream",
          "name": "stdout",
          "text": [
            "Drive already mounted at /content/drive; to attempt to forcibly remount, call drive.mount(\"/content/drive\", force_remount=True).\n"
          ]
        }
      ]
    },
    {
      "cell_type": "code",
      "source": [
        "# !pip install lightfm"
      ],
      "metadata": {
        "id": "Bw93iT1Hnf29"
      },
      "execution_count": 46,
      "outputs": []
    },
    {
      "cell_type": "code",
      "source": [
        "# !pip install implicit"
      ],
      "metadata": {
        "id": "Jnm6CAz6niOB"
      },
      "execution_count": 47,
      "outputs": []
    },
    {
      "cell_type": "code",
      "source": [
        "# !pip install ipython"
      ],
      "metadata": {
        "id": "yPMzfJmBnk0K"
      },
      "execution_count": 48,
      "outputs": []
    },
    {
      "cell_type": "code",
      "source": [
        "# !pip install metrics utils recommenders"
      ],
      "metadata": {
        "id": "C0lB8E3nnoke"
      },
      "execution_count": 49,
      "outputs": []
    },
    {
      "cell_type": "code",
      "source": [
        "# !pip install catboost"
      ],
      "metadata": {
        "id": "dMOTB2OA9_hu"
      },
      "execution_count": 50,
      "outputs": []
    },
    {
      "cell_type": "code",
      "execution_count": 51,
      "metadata": {
        "id": "mEQbx7AAmNCQ"
      },
      "outputs": [],
      "source": [
        "import pandas as pd\n",
        "import numpy as np\n",
        "import matplotlib.pyplot as plt\n",
        "%matplotlib inline\n",
        "import seaborn as sns\n",
        "\n",
        "# Для работы с матрицами\n",
        "from scipy.sparse import csr_matrix\n",
        "\n",
        "# Матричная факторизация\n",
        "from implicit import als\n",
        "\n",
        "# Модель второго уровня\n",
        "from lightgbm import LGBMClassifier\n",
        "import lightgbm as lgb\n",
        "from catboost import CatBoostClassifier, Pool\n",
        "from sklearn.model_selection import train_test_split\n",
        "from sklearn.metrics import roc_auc_score\n",
        "\n",
        "import os, sys\n",
        "module_path = os.path.abspath(os.path.join(os.pardir))\n",
        "if module_path not in sys.path:\n",
        "    sys.path.append(module_path)"
      ]
    },
    {
      "cell_type": "code",
      "source": [
        "# Написанные нами функции\n",
        "from src.metrics import precision_at_k, recall_at_k\n",
        "from src.utils import prefilter_items\n",
        "from src.recommenders import MainRecommender"
      ],
      "metadata": {
        "colab": {
          "base_uri": "https://localhost:8080/",
          "height": 357
        },
        "id": "gXfCvavd-TyJ",
        "outputId": "3473aa49-649e-4f00-e740-1fe4c5a35147"
      },
      "execution_count": 52,
      "outputs": [
        {
          "output_type": "error",
          "ename": "ModuleNotFoundError",
          "evalue": "ignored",
          "traceback": [
            "\u001b[0;31m---------------------------------------------------------------------------\u001b[0m",
            "\u001b[0;31mModuleNotFoundError\u001b[0m                       Traceback (most recent call last)",
            "\u001b[0;32m<ipython-input-52-1799e462c859>\u001b[0m in \u001b[0;36m<module>\u001b[0;34m\u001b[0m\n\u001b[1;32m      1\u001b[0m \u001b[0;31m# Написанные нами функции\u001b[0m\u001b[0;34m\u001b[0m\u001b[0;34m\u001b[0m\u001b[0;34m\u001b[0m\u001b[0m\n\u001b[0;32m----> 2\u001b[0;31m \u001b[0;32mfrom\u001b[0m \u001b[0msrc\u001b[0m\u001b[0;34m.\u001b[0m\u001b[0mmetrics\u001b[0m \u001b[0;32mimport\u001b[0m \u001b[0mprecision_at_k\u001b[0m\u001b[0;34m,\u001b[0m \u001b[0mrecall_at_k\u001b[0m\u001b[0;34m\u001b[0m\u001b[0;34m\u001b[0m\u001b[0m\n\u001b[0m\u001b[1;32m      3\u001b[0m \u001b[0;32mfrom\u001b[0m \u001b[0msrc\u001b[0m\u001b[0;34m.\u001b[0m\u001b[0mutils\u001b[0m \u001b[0;32mimport\u001b[0m \u001b[0mprefilter_items\u001b[0m\u001b[0;34m\u001b[0m\u001b[0;34m\u001b[0m\u001b[0m\n\u001b[1;32m      4\u001b[0m \u001b[0;32mfrom\u001b[0m \u001b[0msrc\u001b[0m\u001b[0;34m.\u001b[0m\u001b[0mrecommenders\u001b[0m \u001b[0;32mimport\u001b[0m \u001b[0mMainRecommender\u001b[0m\u001b[0;34m\u001b[0m\u001b[0;34m\u001b[0m\u001b[0m\n",
            "\u001b[0;31mModuleNotFoundError\u001b[0m: No module named 'src'",
            "",
            "\u001b[0;31m---------------------------------------------------------------------------\u001b[0;32m\nNOTE: If your import is failing due to a missing package, you can\nmanually install dependencies using either !pip or !apt.\n\nTo view examples of installing some common dependencies, click the\n\"Open Examples\" button below.\n\u001b[0;31m---------------------------------------------------------------------------\u001b[0m\n"
          ],
          "errorDetails": {
            "actions": [
              {
                "action": "open_url",
                "actionText": "Open Examples",
                "url": "/notebooks/snippets/importing_libraries.ipynb"
              }
            ]
          }
        }
      ]
    },
    {
      "cell_type": "markdown",
      "source": [
        "## **Загрузка данных**"
      ],
      "metadata": {
        "id": "BUeCmdaSoA--"
      }
    },
    {
      "cell_type": "code",
      "source": [
        "data = pd.read_csv('/content/drive/MyDrive/Colab Notebooks/Recommendation_sistems/lesson08/retail_train.csv')\n",
        "item_features = pd.read_csv('/content/drive/MyDrive/Colab Notebooks/Recommendation_sistems/lesson08/product.csv')\n",
        "user_features = pd.read_csv('/content/drive/MyDrive/Colab Notebooks/Recommendation_sistems/lesson08/hh_demographic.csv')"
      ],
      "metadata": {
        "id": "_Ljgwz_9oF2e"
      },
      "execution_count": 53,
      "outputs": []
    },
    {
      "cell_type": "markdown",
      "source": [
        "## **Обработка столбцов**"
      ],
      "metadata": {
        "id": "4kXPBWUsoVZc"
      }
    },
    {
      "cell_type": "code",
      "source": [
        "item_features.columns = [col.lower() for col in item_features.columns]\n",
        "user_features.columns = [col.lower() for col in user_features.columns]\n",
        "\n",
        "item_features.rename(columns={'product_id': 'item_id'}, inplace=True)\n",
        "user_features.rename(columns={'household_key': 'user_id'}, inplace=True)"
      ],
      "metadata": {
        "id": "koz2yNXooeDw"
      },
      "execution_count": 54,
      "outputs": []
    },
    {
      "cell_type": "markdown",
      "source": [
        "Важна схема обучения и валидации!\n",
        "\n",
        "* давние покупки\n",
        "* 6 недель\n",
        "* 3 недели\n",
        "\n",
        "подобрать размер 2-ого датасета (6 недель) --> learning curve (зависимость метрики **recall@k** от размера датасета)"
      ],
      "metadata": {
        "id": "DKrH9PhUogI4"
      }
    },
    {
      "cell_type": "code",
      "source": [
        "val_lvl_1_size_weeks = 6\n",
        "val_lvl_2_size_weeks = 3\n",
        "\n",
        "data_train_lvl_1 = data[data['week_no'] < data['week_no'].max() - (val_lvl_1_size_weeks + val_lvl_2_size_weeks)]\n",
        "data_val_lvl_1 = data[(data['week_no'] >= data['week_no'].max() - (val_lvl_1_size_weeks + val_lvl_2_size_weeks)) &\n",
        "                      (data['week_no'] < data['week_no'].max() - (val_lvl_2_size_weeks))]\n",
        "\n",
        "data_train_lvl_2 = data_val_lvl_1.copy()  # Для наглядности. Далее мы добавим изменения, и они будут отличаться\n",
        "data_val_lvl_2 = data[data['week_no'] >= data['week_no'].max() - val_lvl_2_size_weeks]\n",
        "\n",
        "data_train_lvl_1.head(2)"
      ],
      "metadata": {
        "colab": {
          "base_uri": "https://localhost:8080/",
          "height": 112
        },
        "id": "6DUAR1_ao2Lh",
        "outputId": "ea45dd73-83ff-410d-841a-f26c574dff66"
      },
      "execution_count": 55,
      "outputs": [
        {
          "output_type": "execute_result",
          "data": {
            "text/plain": [
              "   user_id    basket_id  day  item_id  quantity  sales_value  store_id  \\\n",
              "0     2375  26984851472    1  1004906         1         1.39       364   \n",
              "1     2375  26984851472    1  1033142         1         0.82       364   \n",
              "\n",
              "   retail_disc  trans_time  week_no  coupon_disc  coupon_match_disc  \n",
              "0         -0.6        1631        1          0.0                0.0  \n",
              "1          0.0        1631        1          0.0                0.0  "
            ],
            "text/html": [
              "\n",
              "  <div id=\"df-a8ee36fc-d3bc-4785-8968-030cf99c75ab\">\n",
              "    <div class=\"colab-df-container\">\n",
              "      <div>\n",
              "<style scoped>\n",
              "    .dataframe tbody tr th:only-of-type {\n",
              "        vertical-align: middle;\n",
              "    }\n",
              "\n",
              "    .dataframe tbody tr th {\n",
              "        vertical-align: top;\n",
              "    }\n",
              "\n",
              "    .dataframe thead th {\n",
              "        text-align: right;\n",
              "    }\n",
              "</style>\n",
              "<table border=\"1\" class=\"dataframe\">\n",
              "  <thead>\n",
              "    <tr style=\"text-align: right;\">\n",
              "      <th></th>\n",
              "      <th>user_id</th>\n",
              "      <th>basket_id</th>\n",
              "      <th>day</th>\n",
              "      <th>item_id</th>\n",
              "      <th>quantity</th>\n",
              "      <th>sales_value</th>\n",
              "      <th>store_id</th>\n",
              "      <th>retail_disc</th>\n",
              "      <th>trans_time</th>\n",
              "      <th>week_no</th>\n",
              "      <th>coupon_disc</th>\n",
              "      <th>coupon_match_disc</th>\n",
              "    </tr>\n",
              "  </thead>\n",
              "  <tbody>\n",
              "    <tr>\n",
              "      <th>0</th>\n",
              "      <td>2375</td>\n",
              "      <td>26984851472</td>\n",
              "      <td>1</td>\n",
              "      <td>1004906</td>\n",
              "      <td>1</td>\n",
              "      <td>1.39</td>\n",
              "      <td>364</td>\n",
              "      <td>-0.6</td>\n",
              "      <td>1631</td>\n",
              "      <td>1</td>\n",
              "      <td>0.0</td>\n",
              "      <td>0.0</td>\n",
              "    </tr>\n",
              "    <tr>\n",
              "      <th>1</th>\n",
              "      <td>2375</td>\n",
              "      <td>26984851472</td>\n",
              "      <td>1</td>\n",
              "      <td>1033142</td>\n",
              "      <td>1</td>\n",
              "      <td>0.82</td>\n",
              "      <td>364</td>\n",
              "      <td>0.0</td>\n",
              "      <td>1631</td>\n",
              "      <td>1</td>\n",
              "      <td>0.0</td>\n",
              "      <td>0.0</td>\n",
              "    </tr>\n",
              "  </tbody>\n",
              "</table>\n",
              "</div>\n",
              "      <button class=\"colab-df-convert\" onclick=\"convertToInteractive('df-a8ee36fc-d3bc-4785-8968-030cf99c75ab')\"\n",
              "              title=\"Convert this dataframe to an interactive table.\"\n",
              "              style=\"display:none;\">\n",
              "        \n",
              "  <svg xmlns=\"http://www.w3.org/2000/svg\" height=\"24px\"viewBox=\"0 0 24 24\"\n",
              "       width=\"24px\">\n",
              "    <path d=\"M0 0h24v24H0V0z\" fill=\"none\"/>\n",
              "    <path d=\"M18.56 5.44l.94 2.06.94-2.06 2.06-.94-2.06-.94-.94-2.06-.94 2.06-2.06.94zm-11 1L8.5 8.5l.94-2.06 2.06-.94-2.06-.94L8.5 2.5l-.94 2.06-2.06.94zm10 10l.94 2.06.94-2.06 2.06-.94-2.06-.94-.94-2.06-.94 2.06-2.06.94z\"/><path d=\"M17.41 7.96l-1.37-1.37c-.4-.4-.92-.59-1.43-.59-.52 0-1.04.2-1.43.59L10.3 9.45l-7.72 7.72c-.78.78-.78 2.05 0 2.83L4 21.41c.39.39.9.59 1.41.59.51 0 1.02-.2 1.41-.59l7.78-7.78 2.81-2.81c.8-.78.8-2.07 0-2.86zM5.41 20L4 18.59l7.72-7.72 1.47 1.35L5.41 20z\"/>\n",
              "  </svg>\n",
              "      </button>\n",
              "      \n",
              "  <style>\n",
              "    .colab-df-container {\n",
              "      display:flex;\n",
              "      flex-wrap:wrap;\n",
              "      gap: 12px;\n",
              "    }\n",
              "\n",
              "    .colab-df-convert {\n",
              "      background-color: #E8F0FE;\n",
              "      border: none;\n",
              "      border-radius: 50%;\n",
              "      cursor: pointer;\n",
              "      display: none;\n",
              "      fill: #1967D2;\n",
              "      height: 32px;\n",
              "      padding: 0 0 0 0;\n",
              "      width: 32px;\n",
              "    }\n",
              "\n",
              "    .colab-df-convert:hover {\n",
              "      background-color: #E2EBFA;\n",
              "      box-shadow: 0px 1px 2px rgba(60, 64, 67, 0.3), 0px 1px 3px 1px rgba(60, 64, 67, 0.15);\n",
              "      fill: #174EA6;\n",
              "    }\n",
              "\n",
              "    [theme=dark] .colab-df-convert {\n",
              "      background-color: #3B4455;\n",
              "      fill: #D2E3FC;\n",
              "    }\n",
              "\n",
              "    [theme=dark] .colab-df-convert:hover {\n",
              "      background-color: #434B5C;\n",
              "      box-shadow: 0px 1px 3px 1px rgba(0, 0, 0, 0.15);\n",
              "      filter: drop-shadow(0px 1px 2px rgba(0, 0, 0, 0.3));\n",
              "      fill: #FFFFFF;\n",
              "    }\n",
              "  </style>\n",
              "\n",
              "      <script>\n",
              "        const buttonEl =\n",
              "          document.querySelector('#df-a8ee36fc-d3bc-4785-8968-030cf99c75ab button.colab-df-convert');\n",
              "        buttonEl.style.display =\n",
              "          google.colab.kernel.accessAllowed ? 'block' : 'none';\n",
              "\n",
              "        async function convertToInteractive(key) {\n",
              "          const element = document.querySelector('#df-a8ee36fc-d3bc-4785-8968-030cf99c75ab');\n",
              "          const dataTable =\n",
              "            await google.colab.kernel.invokeFunction('convertToInteractive',\n",
              "                                                     [key], {});\n",
              "          if (!dataTable) return;\n",
              "\n",
              "          const docLinkHtml = 'Like what you see? Visit the ' +\n",
              "            '<a target=\"_blank\" href=https://colab.research.google.com/notebooks/data_table.ipynb>data table notebook</a>'\n",
              "            + ' to learn more about interactive tables.';\n",
              "          element.innerHTML = '';\n",
              "          dataTable['output_type'] = 'display_data';\n",
              "          await google.colab.output.renderOutput(dataTable, element);\n",
              "          const docLink = document.createElement('div');\n",
              "          docLink.innerHTML = docLinkHtml;\n",
              "          element.appendChild(docLink);\n",
              "        }\n",
              "      </script>\n",
              "    </div>\n",
              "  </div>\n",
              "  "
            ]
          },
          "metadata": {},
          "execution_count": 55
        }
      ]
    },
    {
      "cell_type": "markdown",
      "source": [
        "## **Появление новых пользователей на валидационной и тестовой выборках**"
      ],
      "metadata": {
        "id": "63kM8xDSo8Yg"
      }
    },
    {
      "cell_type": "code",
      "source": [
        "users_lvl_1 = data_train_lvl_1.user_id.unique()\n",
        "users_lvl_2 = data_val_lvl_1.user_id.unique()\n",
        "users_lvl_3 = data_val_lvl_2.user_id.unique()\n",
        "\n",
        "new_users_lvl_2 = list(set(users_lvl_2) - set(users_lvl_1))\n",
        "new_users_lvl_3 = list(set(users_lvl_3) - (set(users_lvl_1) | set(users_lvl_2)))\n",
        "\n",
        "add_to_lvl_2 = list(set(users_lvl_3) - (set(users_lvl_2)))\n",
        "\n",
        "print('Количество пользователей в интервале до 6 нед:', new_users_lvl_2)\n",
        "print('Количество новых пользователей в интервале 6 нед:', new_users_lvl_3)\n",
        "print('Количество новых пользователей в интервале 3 нед:', len(add_to_lvl_2))"
      ],
      "metadata": {
        "colab": {
          "base_uri": "https://localhost:8080/"
        },
        "id": "XT2ob7OYpBmD",
        "outputId": "bd8e07f4-dfbd-47f9-8ff7-d199f9a7e874"
      },
      "execution_count": 56,
      "outputs": [
        {
          "output_type": "stream",
          "name": "stdout",
          "text": [
            "Количество пользователей в интервале до 6 нед: [1984]\n",
            "Количество новых пользователей в интервале 6 нед: []\n",
            "Количество новых пользователей в интервале 3 нед: 126\n"
          ]
        }
      ]
    },
    {
      "cell_type": "markdown",
      "source": [
        "# Обзор датасета"
      ],
      "metadata": {
        "id": "cZYy5MMQpFVQ"
      }
    },
    {
      "cell_type": "code",
      "source": [
        "data.head()"
      ],
      "metadata": {
        "colab": {
          "base_uri": "https://localhost:8080/",
          "height": 206
        },
        "id": "TWSRVTC1pSh4",
        "outputId": "76c5efca-52bf-4a99-bf4e-20190e798da1"
      },
      "execution_count": 57,
      "outputs": [
        {
          "output_type": "execute_result",
          "data": {
            "text/plain": [
              "   user_id    basket_id  day  item_id  quantity  sales_value  store_id  \\\n",
              "0     2375  26984851472    1  1004906         1         1.39       364   \n",
              "1     2375  26984851472    1  1033142         1         0.82       364   \n",
              "2     2375  26984851472    1  1036325         1         0.99       364   \n",
              "3     2375  26984851472    1  1082185         1         1.21       364   \n",
              "4     2375  26984851472    1  8160430         1         1.50       364   \n",
              "\n",
              "   retail_disc  trans_time  week_no  coupon_disc  coupon_match_disc  \n",
              "0        -0.60        1631        1          0.0                0.0  \n",
              "1         0.00        1631        1          0.0                0.0  \n",
              "2        -0.30        1631        1          0.0                0.0  \n",
              "3         0.00        1631        1          0.0                0.0  \n",
              "4        -0.39        1631        1          0.0                0.0  "
            ],
            "text/html": [
              "\n",
              "  <div id=\"df-ac4ca63d-aacb-4752-b297-5d64a9f8c245\">\n",
              "    <div class=\"colab-df-container\">\n",
              "      <div>\n",
              "<style scoped>\n",
              "    .dataframe tbody tr th:only-of-type {\n",
              "        vertical-align: middle;\n",
              "    }\n",
              "\n",
              "    .dataframe tbody tr th {\n",
              "        vertical-align: top;\n",
              "    }\n",
              "\n",
              "    .dataframe thead th {\n",
              "        text-align: right;\n",
              "    }\n",
              "</style>\n",
              "<table border=\"1\" class=\"dataframe\">\n",
              "  <thead>\n",
              "    <tr style=\"text-align: right;\">\n",
              "      <th></th>\n",
              "      <th>user_id</th>\n",
              "      <th>basket_id</th>\n",
              "      <th>day</th>\n",
              "      <th>item_id</th>\n",
              "      <th>quantity</th>\n",
              "      <th>sales_value</th>\n",
              "      <th>store_id</th>\n",
              "      <th>retail_disc</th>\n",
              "      <th>trans_time</th>\n",
              "      <th>week_no</th>\n",
              "      <th>coupon_disc</th>\n",
              "      <th>coupon_match_disc</th>\n",
              "    </tr>\n",
              "  </thead>\n",
              "  <tbody>\n",
              "    <tr>\n",
              "      <th>0</th>\n",
              "      <td>2375</td>\n",
              "      <td>26984851472</td>\n",
              "      <td>1</td>\n",
              "      <td>1004906</td>\n",
              "      <td>1</td>\n",
              "      <td>1.39</td>\n",
              "      <td>364</td>\n",
              "      <td>-0.60</td>\n",
              "      <td>1631</td>\n",
              "      <td>1</td>\n",
              "      <td>0.0</td>\n",
              "      <td>0.0</td>\n",
              "    </tr>\n",
              "    <tr>\n",
              "      <th>1</th>\n",
              "      <td>2375</td>\n",
              "      <td>26984851472</td>\n",
              "      <td>1</td>\n",
              "      <td>1033142</td>\n",
              "      <td>1</td>\n",
              "      <td>0.82</td>\n",
              "      <td>364</td>\n",
              "      <td>0.00</td>\n",
              "      <td>1631</td>\n",
              "      <td>1</td>\n",
              "      <td>0.0</td>\n",
              "      <td>0.0</td>\n",
              "    </tr>\n",
              "    <tr>\n",
              "      <th>2</th>\n",
              "      <td>2375</td>\n",
              "      <td>26984851472</td>\n",
              "      <td>1</td>\n",
              "      <td>1036325</td>\n",
              "      <td>1</td>\n",
              "      <td>0.99</td>\n",
              "      <td>364</td>\n",
              "      <td>-0.30</td>\n",
              "      <td>1631</td>\n",
              "      <td>1</td>\n",
              "      <td>0.0</td>\n",
              "      <td>0.0</td>\n",
              "    </tr>\n",
              "    <tr>\n",
              "      <th>3</th>\n",
              "      <td>2375</td>\n",
              "      <td>26984851472</td>\n",
              "      <td>1</td>\n",
              "      <td>1082185</td>\n",
              "      <td>1</td>\n",
              "      <td>1.21</td>\n",
              "      <td>364</td>\n",
              "      <td>0.00</td>\n",
              "      <td>1631</td>\n",
              "      <td>1</td>\n",
              "      <td>0.0</td>\n",
              "      <td>0.0</td>\n",
              "    </tr>\n",
              "    <tr>\n",
              "      <th>4</th>\n",
              "      <td>2375</td>\n",
              "      <td>26984851472</td>\n",
              "      <td>1</td>\n",
              "      <td>8160430</td>\n",
              "      <td>1</td>\n",
              "      <td>1.50</td>\n",
              "      <td>364</td>\n",
              "      <td>-0.39</td>\n",
              "      <td>1631</td>\n",
              "      <td>1</td>\n",
              "      <td>0.0</td>\n",
              "      <td>0.0</td>\n",
              "    </tr>\n",
              "  </tbody>\n",
              "</table>\n",
              "</div>\n",
              "      <button class=\"colab-df-convert\" onclick=\"convertToInteractive('df-ac4ca63d-aacb-4752-b297-5d64a9f8c245')\"\n",
              "              title=\"Convert this dataframe to an interactive table.\"\n",
              "              style=\"display:none;\">\n",
              "        \n",
              "  <svg xmlns=\"http://www.w3.org/2000/svg\" height=\"24px\"viewBox=\"0 0 24 24\"\n",
              "       width=\"24px\">\n",
              "    <path d=\"M0 0h24v24H0V0z\" fill=\"none\"/>\n",
              "    <path d=\"M18.56 5.44l.94 2.06.94-2.06 2.06-.94-2.06-.94-.94-2.06-.94 2.06-2.06.94zm-11 1L8.5 8.5l.94-2.06 2.06-.94-2.06-.94L8.5 2.5l-.94 2.06-2.06.94zm10 10l.94 2.06.94-2.06 2.06-.94-2.06-.94-.94-2.06-.94 2.06-2.06.94z\"/><path d=\"M17.41 7.96l-1.37-1.37c-.4-.4-.92-.59-1.43-.59-.52 0-1.04.2-1.43.59L10.3 9.45l-7.72 7.72c-.78.78-.78 2.05 0 2.83L4 21.41c.39.39.9.59 1.41.59.51 0 1.02-.2 1.41-.59l7.78-7.78 2.81-2.81c.8-.78.8-2.07 0-2.86zM5.41 20L4 18.59l7.72-7.72 1.47 1.35L5.41 20z\"/>\n",
              "  </svg>\n",
              "      </button>\n",
              "      \n",
              "  <style>\n",
              "    .colab-df-container {\n",
              "      display:flex;\n",
              "      flex-wrap:wrap;\n",
              "      gap: 12px;\n",
              "    }\n",
              "\n",
              "    .colab-df-convert {\n",
              "      background-color: #E8F0FE;\n",
              "      border: none;\n",
              "      border-radius: 50%;\n",
              "      cursor: pointer;\n",
              "      display: none;\n",
              "      fill: #1967D2;\n",
              "      height: 32px;\n",
              "      padding: 0 0 0 0;\n",
              "      width: 32px;\n",
              "    }\n",
              "\n",
              "    .colab-df-convert:hover {\n",
              "      background-color: #E2EBFA;\n",
              "      box-shadow: 0px 1px 2px rgba(60, 64, 67, 0.3), 0px 1px 3px 1px rgba(60, 64, 67, 0.15);\n",
              "      fill: #174EA6;\n",
              "    }\n",
              "\n",
              "    [theme=dark] .colab-df-convert {\n",
              "      background-color: #3B4455;\n",
              "      fill: #D2E3FC;\n",
              "    }\n",
              "\n",
              "    [theme=dark] .colab-df-convert:hover {\n",
              "      background-color: #434B5C;\n",
              "      box-shadow: 0px 1px 3px 1px rgba(0, 0, 0, 0.15);\n",
              "      filter: drop-shadow(0px 1px 2px rgba(0, 0, 0, 0.3));\n",
              "      fill: #FFFFFF;\n",
              "    }\n",
              "  </style>\n",
              "\n",
              "      <script>\n",
              "        const buttonEl =\n",
              "          document.querySelector('#df-ac4ca63d-aacb-4752-b297-5d64a9f8c245 button.colab-df-convert');\n",
              "        buttonEl.style.display =\n",
              "          google.colab.kernel.accessAllowed ? 'block' : 'none';\n",
              "\n",
              "        async function convertToInteractive(key) {\n",
              "          const element = document.querySelector('#df-ac4ca63d-aacb-4752-b297-5d64a9f8c245');\n",
              "          const dataTable =\n",
              "            await google.colab.kernel.invokeFunction('convertToInteractive',\n",
              "                                                     [key], {});\n",
              "          if (!dataTable) return;\n",
              "\n",
              "          const docLinkHtml = 'Like what you see? Visit the ' +\n",
              "            '<a target=\"_blank\" href=https://colab.research.google.com/notebooks/data_table.ipynb>data table notebook</a>'\n",
              "            + ' to learn more about interactive tables.';\n",
              "          element.innerHTML = '';\n",
              "          dataTable['output_type'] = 'display_data';\n",
              "          await google.colab.output.renderOutput(dataTable, element);\n",
              "          const docLink = document.createElement('div');\n",
              "          docLink.innerHTML = docLinkHtml;\n",
              "          element.appendChild(docLink);\n",
              "        }\n",
              "      </script>\n",
              "    </div>\n",
              "  </div>\n",
              "  "
            ]
          },
          "metadata": {},
          "execution_count": 57
        }
      ]
    },
    {
      "cell_type": "code",
      "source": [
        "data.shape"
      ],
      "metadata": {
        "colab": {
          "base_uri": "https://localhost:8080/"
        },
        "id": "D4KuvPCzpUhZ",
        "outputId": "c4de7313-4a90-4850-ba80-7ccb6158fe3d"
      },
      "execution_count": 58,
      "outputs": [
        {
          "output_type": "execute_result",
          "data": {
            "text/plain": [
              "(2396804, 12)"
            ]
          },
          "metadata": {},
          "execution_count": 58
        }
      ]
    },
    {
      "cell_type": "code",
      "source": [
        "data.info()"
      ],
      "metadata": {
        "colab": {
          "base_uri": "https://localhost:8080/"
        },
        "id": "qTBDtzzlpWVy",
        "outputId": "24466177-5cf7-49f6-cd5d-b8e9eac1f14d"
      },
      "execution_count": 59,
      "outputs": [
        {
          "output_type": "stream",
          "name": "stdout",
          "text": [
            "<class 'pandas.core.frame.DataFrame'>\n",
            "RangeIndex: 2396804 entries, 0 to 2396803\n",
            "Data columns (total 12 columns):\n",
            " #   Column             Dtype  \n",
            "---  ------             -----  \n",
            " 0   user_id            int64  \n",
            " 1   basket_id          int64  \n",
            " 2   day                int64  \n",
            " 3   item_id            int64  \n",
            " 4   quantity           int64  \n",
            " 5   sales_value        float64\n",
            " 6   store_id           int64  \n",
            " 7   retail_disc        float64\n",
            " 8   trans_time         int64  \n",
            " 9   week_no            int64  \n",
            " 10  coupon_disc        float64\n",
            " 11  coupon_match_disc  float64\n",
            "dtypes: float64(4), int64(8)\n",
            "memory usage: 219.4 MB\n"
          ]
        }
      ]
    },
    {
      "cell_type": "code",
      "source": [
        "data.describe().style.set_precision(0)"
      ],
      "metadata": {
        "colab": {
          "base_uri": "https://localhost:8080/",
          "height": 335
        },
        "id": "KWCPX5eFpY9Y",
        "outputId": "f8ad734a-6dd3-4a83-8628-86a53c96859e"
      },
      "execution_count": 60,
      "outputs": [
        {
          "output_type": "stream",
          "name": "stderr",
          "text": [
            "<ipython-input-60-8d842e0da464>:1: FutureWarning: this method is deprecated in favour of `Styler.format(precision=..)`\n",
            "  data.describe().style.set_precision(0)\n"
          ]
        },
        {
          "output_type": "execute_result",
          "data": {
            "text/plain": [
              "<pandas.io.formats.style.Styler at 0x7f18b4124700>"
            ],
            "text/html": [
              "<style type=\"text/css\">\n",
              "</style>\n",
              "<table id=\"T_878b4_\" class=\"dataframe\">\n",
              "  <thead>\n",
              "    <tr>\n",
              "      <th class=\"blank level0\" >&nbsp;</th>\n",
              "      <th class=\"col_heading level0 col0\" >user_id</th>\n",
              "      <th class=\"col_heading level0 col1\" >basket_id</th>\n",
              "      <th class=\"col_heading level0 col2\" >day</th>\n",
              "      <th class=\"col_heading level0 col3\" >item_id</th>\n",
              "      <th class=\"col_heading level0 col4\" >quantity</th>\n",
              "      <th class=\"col_heading level0 col5\" >sales_value</th>\n",
              "      <th class=\"col_heading level0 col6\" >store_id</th>\n",
              "      <th class=\"col_heading level0 col7\" >retail_disc</th>\n",
              "      <th class=\"col_heading level0 col8\" >trans_time</th>\n",
              "      <th class=\"col_heading level0 col9\" >week_no</th>\n",
              "      <th class=\"col_heading level0 col10\" >coupon_disc</th>\n",
              "      <th class=\"col_heading level0 col11\" >coupon_match_disc</th>\n",
              "    </tr>\n",
              "  </thead>\n",
              "  <tbody>\n",
              "    <tr>\n",
              "      <th id=\"T_878b4_level0_row0\" class=\"row_heading level0 row0\" >count</th>\n",
              "      <td id=\"T_878b4_row0_col0\" class=\"data row0 col0\" >2396804</td>\n",
              "      <td id=\"T_878b4_row0_col1\" class=\"data row0 col1\" >2396804</td>\n",
              "      <td id=\"T_878b4_row0_col2\" class=\"data row0 col2\" >2396804</td>\n",
              "      <td id=\"T_878b4_row0_col3\" class=\"data row0 col3\" >2396804</td>\n",
              "      <td id=\"T_878b4_row0_col4\" class=\"data row0 col4\" >2396804</td>\n",
              "      <td id=\"T_878b4_row0_col5\" class=\"data row0 col5\" >2396804</td>\n",
              "      <td id=\"T_878b4_row0_col6\" class=\"data row0 col6\" >2396804</td>\n",
              "      <td id=\"T_878b4_row0_col7\" class=\"data row0 col7\" >2396804</td>\n",
              "      <td id=\"T_878b4_row0_col8\" class=\"data row0 col8\" >2396804</td>\n",
              "      <td id=\"T_878b4_row0_col9\" class=\"data row0 col9\" >2396804</td>\n",
              "      <td id=\"T_878b4_row0_col10\" class=\"data row0 col10\" >2396804</td>\n",
              "      <td id=\"T_878b4_row0_col11\" class=\"data row0 col11\" >2396804</td>\n",
              "    </tr>\n",
              "    <tr>\n",
              "      <th id=\"T_878b4_level0_row1\" class=\"row_heading level0 row1\" >mean</th>\n",
              "      <td id=\"T_878b4_row1_col0\" class=\"data row1 col0\" >1272</td>\n",
              "      <td id=\"T_878b4_row1_col1\" class=\"data row1 col1\" >33366432676</td>\n",
              "      <td id=\"T_878b4_row1_col2\" class=\"data row1 col2\" >364</td>\n",
              "      <td id=\"T_878b4_row1_col3\" class=\"data row1 col3\" >2827247</td>\n",
              "      <td id=\"T_878b4_row1_col4\" class=\"data row1 col4\" >100</td>\n",
              "      <td id=\"T_878b4_row1_col5\" class=\"data row1 col5\" >3</td>\n",
              "      <td id=\"T_878b4_row1_col6\" class=\"data row1 col6\" >3048</td>\n",
              "      <td id=\"T_878b4_row1_col7\" class=\"data row1 col7\" >-1</td>\n",
              "      <td id=\"T_878b4_row1_col8\" class=\"data row1 col8\" >1562</td>\n",
              "      <td id=\"T_878b4_row1_col9\" class=\"data row1 col9\" >53</td>\n",
              "      <td id=\"T_878b4_row1_col10\" class=\"data row1 col10\" >-0</td>\n",
              "      <td id=\"T_878b4_row1_col11\" class=\"data row1 col11\" >-0</td>\n",
              "    </tr>\n",
              "    <tr>\n",
              "      <th id=\"T_878b4_level0_row2\" class=\"row_heading level0 row2\" >std</th>\n",
              "      <td id=\"T_878b4_row2_col0\" class=\"data row2 col0\" >727</td>\n",
              "      <td id=\"T_878b4_row2_col1\" class=\"data row2 col1\" >4284798176</td>\n",
              "      <td id=\"T_878b4_row2_col2\" class=\"data row2 col2\" >176</td>\n",
              "      <td id=\"T_878b4_row2_col3\" class=\"data row2 col3\" >3732798</td>\n",
              "      <td id=\"T_878b4_row2_col4\" class=\"data row2 col4\" >1152</td>\n",
              "      <td id=\"T_878b4_row2_col5\" class=\"data row2 col5\" >4</td>\n",
              "      <td id=\"T_878b4_row2_col6\" class=\"data row2 col6\" >8786</td>\n",
              "      <td id=\"T_878b4_row2_col7\" class=\"data row2 col7\" >1</td>\n",
              "      <td id=\"T_878b4_row2_col8\" class=\"data row2 col8\" >402</td>\n",
              "      <td id=\"T_878b4_row2_col9\" class=\"data row2 col9\" >25</td>\n",
              "      <td id=\"T_878b4_row2_col10\" class=\"data row2 col10\" >0</td>\n",
              "      <td id=\"T_878b4_row2_col11\" class=\"data row2 col11\" >0</td>\n",
              "    </tr>\n",
              "    <tr>\n",
              "      <th id=\"T_878b4_level0_row3\" class=\"row_heading level0 row3\" >min</th>\n",
              "      <td id=\"T_878b4_row3_col0\" class=\"data row3 col0\" >1</td>\n",
              "      <td id=\"T_878b4_row3_col1\" class=\"data row3 col1\" >26984851472</td>\n",
              "      <td id=\"T_878b4_row3_col2\" class=\"data row3 col2\" >1</td>\n",
              "      <td id=\"T_878b4_row3_col3\" class=\"data row3 col3\" >25671</td>\n",
              "      <td id=\"T_878b4_row3_col4\" class=\"data row3 col4\" >0</td>\n",
              "      <td id=\"T_878b4_row3_col5\" class=\"data row3 col5\" >0</td>\n",
              "      <td id=\"T_878b4_row3_col6\" class=\"data row3 col6\" >1</td>\n",
              "      <td id=\"T_878b4_row3_col7\" class=\"data row3 col7\" >-130</td>\n",
              "      <td id=\"T_878b4_row3_col8\" class=\"data row3 col8\" >0</td>\n",
              "      <td id=\"T_878b4_row3_col9\" class=\"data row3 col9\" >1</td>\n",
              "      <td id=\"T_878b4_row3_col10\" class=\"data row3 col10\" >-56</td>\n",
              "      <td id=\"T_878b4_row3_col11\" class=\"data row3 col11\" >-8</td>\n",
              "    </tr>\n",
              "    <tr>\n",
              "      <th id=\"T_878b4_level0_row4\" class=\"row_heading level0 row4\" >25%</th>\n",
              "      <td id=\"T_878b4_row4_col0\" class=\"data row4 col0\" >655</td>\n",
              "      <td id=\"T_878b4_row4_col1\" class=\"data row4 col1\" >30087143433</td>\n",
              "      <td id=\"T_878b4_row4_col2\" class=\"data row4 col2\" >216</td>\n",
              "      <td id=\"T_878b4_row4_col3\" class=\"data row4 col3\" >916993</td>\n",
              "      <td id=\"T_878b4_row4_col4\" class=\"data row4 col4\" >1</td>\n",
              "      <td id=\"T_878b4_row4_col5\" class=\"data row4 col5\" >1</td>\n",
              "      <td id=\"T_878b4_row4_col6\" class=\"data row4 col6\" >330</td>\n",
              "      <td id=\"T_878b4_row4_col7\" class=\"data row4 col7\" >-1</td>\n",
              "      <td id=\"T_878b4_row4_col8\" class=\"data row4 col8\" >1307</td>\n",
              "      <td id=\"T_878b4_row4_col9\" class=\"data row4 col9\" >32</td>\n",
              "      <td id=\"T_878b4_row4_col10\" class=\"data row4 col10\" >0</td>\n",
              "      <td id=\"T_878b4_row4_col11\" class=\"data row4 col11\" >0</td>\n",
              "    </tr>\n",
              "    <tr>\n",
              "      <th id=\"T_878b4_level0_row5\" class=\"row_heading level0 row5\" >50%</th>\n",
              "      <td id=\"T_878b4_row5_col0\" class=\"data row5 col0\" >1271</td>\n",
              "      <td id=\"T_878b4_row5_col1\" class=\"data row5 col1\" >32419978306</td>\n",
              "      <td id=\"T_878b4_row5_col2\" class=\"data row5 col2\" >366</td>\n",
              "      <td id=\"T_878b4_row5_col3\" class=\"data row5 col3\" >1027569</td>\n",
              "      <td id=\"T_878b4_row5_col4\" class=\"data row5 col4\" >1</td>\n",
              "      <td id=\"T_878b4_row5_col5\" class=\"data row5 col5\" >2</td>\n",
              "      <td id=\"T_878b4_row5_col6\" class=\"data row5 col6\" >370</td>\n",
              "      <td id=\"T_878b4_row5_col7\" class=\"data row5 col7\" >-0</td>\n",
              "      <td id=\"T_878b4_row5_col8\" class=\"data row5 col8\" >1614</td>\n",
              "      <td id=\"T_878b4_row5_col9\" class=\"data row5 col9\" >53</td>\n",
              "      <td id=\"T_878b4_row5_col10\" class=\"data row5 col10\" >0</td>\n",
              "      <td id=\"T_878b4_row5_col11\" class=\"data row5 col11\" >0</td>\n",
              "    </tr>\n",
              "    <tr>\n",
              "      <th id=\"T_878b4_level0_row6\" class=\"row_heading level0 row6\" >75%</th>\n",
              "      <td id=\"T_878b4_row6_col0\" class=\"data row6 col0\" >1914</td>\n",
              "      <td id=\"T_878b4_row6_col1\" class=\"data row6 col1\" >35145801967</td>\n",
              "      <td id=\"T_878b4_row6_col2\" class=\"data row6 col2\" >515</td>\n",
              "      <td id=\"T_878b4_row6_col3\" class=\"data row6 col3\" >1132178</td>\n",
              "      <td id=\"T_878b4_row6_col4\" class=\"data row6 col4\" >1</td>\n",
              "      <td id=\"T_878b4_row6_col5\" class=\"data row6 col5\" >3</td>\n",
              "      <td id=\"T_878b4_row6_col6\" class=\"data row6 col6\" >422</td>\n",
              "      <td id=\"T_878b4_row6_col7\" class=\"data row6 col7\" >0</td>\n",
              "      <td id=\"T_878b4_row6_col8\" class=\"data row6 col8\" >1844</td>\n",
              "      <td id=\"T_878b4_row6_col9\" class=\"data row6 col9\" >74</td>\n",
              "      <td id=\"T_878b4_row6_col10\" class=\"data row6 col10\" >0</td>\n",
              "      <td id=\"T_878b4_row6_col11\" class=\"data row6 col11\" >0</td>\n",
              "    </tr>\n",
              "    <tr>\n",
              "      <th id=\"T_878b4_level0_row7\" class=\"row_heading level0 row7\" >max</th>\n",
              "      <td id=\"T_878b4_row7_col0\" class=\"data row7 col0\" >2500</td>\n",
              "      <td id=\"T_878b4_row7_col1\" class=\"data row7 col1\" >41656790510</td>\n",
              "      <td id=\"T_878b4_row7_col2\" class=\"data row7 col2\" >663</td>\n",
              "      <td id=\"T_878b4_row7_col3\" class=\"data row7 col3\" >18024556</td>\n",
              "      <td id=\"T_878b4_row7_col4\" class=\"data row7 col4\" >89638</td>\n",
              "      <td id=\"T_878b4_row7_col5\" class=\"data row7 col5\" >840</td>\n",
              "      <td id=\"T_878b4_row7_col6\" class=\"data row7 col6\" >34280</td>\n",
              "      <td id=\"T_878b4_row7_col7\" class=\"data row7 col7\" >4</td>\n",
              "      <td id=\"T_878b4_row7_col8\" class=\"data row7 col8\" >2359</td>\n",
              "      <td id=\"T_878b4_row7_col9\" class=\"data row7 col9\" >95</td>\n",
              "      <td id=\"T_878b4_row7_col10\" class=\"data row7 col10\" >0</td>\n",
              "      <td id=\"T_878b4_row7_col11\" class=\"data row7 col11\" >0</td>\n",
              "    </tr>\n",
              "  </tbody>\n",
              "</table>\n"
            ]
          },
          "metadata": {},
          "execution_count": 60
        }
      ]
    },
    {
      "cell_type": "code",
      "source": [
        "item_features.head()"
      ],
      "metadata": {
        "colab": {
          "base_uri": "https://localhost:8080/",
          "height": 206
        },
        "id": "KUqkTBnwpazK",
        "outputId": "4b450784-d43c-4e8a-99ae-481d2d7f5db7"
      },
      "execution_count": 61,
      "outputs": [
        {
          "output_type": "execute_result",
          "data": {
            "text/plain": [
              "   item_id  manufacturer    department     brand            commodity_desc  \\\n",
              "0    25671             2       GROCERY  National                  FRZN ICE   \n",
              "1    26081             2  MISC. TRANS.  National  NO COMMODITY DESCRIPTION   \n",
              "2    26093            69        PASTRY   Private                     BREAD   \n",
              "3    26190            69       GROCERY   Private      FRUIT - SHELF STABLE   \n",
              "4    26355            69       GROCERY   Private             COOKIES/CONES   \n",
              "\n",
              "            sub_commodity_desc curr_size_of_product  \n",
              "0          ICE - CRUSHED/CUBED                22 LB  \n",
              "1  NO SUBCOMMODITY DESCRIPTION                       \n",
              "2         BREAD:ITALIAN/FRENCH                       \n",
              "3                  APPLE SAUCE                50 OZ  \n",
              "4            SPECIALTY COOKIES                14 OZ  "
            ],
            "text/html": [
              "\n",
              "  <div id=\"df-6d9f1f1c-4cb5-437f-a25e-898320dab32e\">\n",
              "    <div class=\"colab-df-container\">\n",
              "      <div>\n",
              "<style scoped>\n",
              "    .dataframe tbody tr th:only-of-type {\n",
              "        vertical-align: middle;\n",
              "    }\n",
              "\n",
              "    .dataframe tbody tr th {\n",
              "        vertical-align: top;\n",
              "    }\n",
              "\n",
              "    .dataframe thead th {\n",
              "        text-align: right;\n",
              "    }\n",
              "</style>\n",
              "<table border=\"1\" class=\"dataframe\">\n",
              "  <thead>\n",
              "    <tr style=\"text-align: right;\">\n",
              "      <th></th>\n",
              "      <th>item_id</th>\n",
              "      <th>manufacturer</th>\n",
              "      <th>department</th>\n",
              "      <th>brand</th>\n",
              "      <th>commodity_desc</th>\n",
              "      <th>sub_commodity_desc</th>\n",
              "      <th>curr_size_of_product</th>\n",
              "    </tr>\n",
              "  </thead>\n",
              "  <tbody>\n",
              "    <tr>\n",
              "      <th>0</th>\n",
              "      <td>25671</td>\n",
              "      <td>2</td>\n",
              "      <td>GROCERY</td>\n",
              "      <td>National</td>\n",
              "      <td>FRZN ICE</td>\n",
              "      <td>ICE - CRUSHED/CUBED</td>\n",
              "      <td>22 LB</td>\n",
              "    </tr>\n",
              "    <tr>\n",
              "      <th>1</th>\n",
              "      <td>26081</td>\n",
              "      <td>2</td>\n",
              "      <td>MISC. TRANS.</td>\n",
              "      <td>National</td>\n",
              "      <td>NO COMMODITY DESCRIPTION</td>\n",
              "      <td>NO SUBCOMMODITY DESCRIPTION</td>\n",
              "      <td></td>\n",
              "    </tr>\n",
              "    <tr>\n",
              "      <th>2</th>\n",
              "      <td>26093</td>\n",
              "      <td>69</td>\n",
              "      <td>PASTRY</td>\n",
              "      <td>Private</td>\n",
              "      <td>BREAD</td>\n",
              "      <td>BREAD:ITALIAN/FRENCH</td>\n",
              "      <td></td>\n",
              "    </tr>\n",
              "    <tr>\n",
              "      <th>3</th>\n",
              "      <td>26190</td>\n",
              "      <td>69</td>\n",
              "      <td>GROCERY</td>\n",
              "      <td>Private</td>\n",
              "      <td>FRUIT - SHELF STABLE</td>\n",
              "      <td>APPLE SAUCE</td>\n",
              "      <td>50 OZ</td>\n",
              "    </tr>\n",
              "    <tr>\n",
              "      <th>4</th>\n",
              "      <td>26355</td>\n",
              "      <td>69</td>\n",
              "      <td>GROCERY</td>\n",
              "      <td>Private</td>\n",
              "      <td>COOKIES/CONES</td>\n",
              "      <td>SPECIALTY COOKIES</td>\n",
              "      <td>14 OZ</td>\n",
              "    </tr>\n",
              "  </tbody>\n",
              "</table>\n",
              "</div>\n",
              "      <button class=\"colab-df-convert\" onclick=\"convertToInteractive('df-6d9f1f1c-4cb5-437f-a25e-898320dab32e')\"\n",
              "              title=\"Convert this dataframe to an interactive table.\"\n",
              "              style=\"display:none;\">\n",
              "        \n",
              "  <svg xmlns=\"http://www.w3.org/2000/svg\" height=\"24px\"viewBox=\"0 0 24 24\"\n",
              "       width=\"24px\">\n",
              "    <path d=\"M0 0h24v24H0V0z\" fill=\"none\"/>\n",
              "    <path d=\"M18.56 5.44l.94 2.06.94-2.06 2.06-.94-2.06-.94-.94-2.06-.94 2.06-2.06.94zm-11 1L8.5 8.5l.94-2.06 2.06-.94-2.06-.94L8.5 2.5l-.94 2.06-2.06.94zm10 10l.94 2.06.94-2.06 2.06-.94-2.06-.94-.94-2.06-.94 2.06-2.06.94z\"/><path d=\"M17.41 7.96l-1.37-1.37c-.4-.4-.92-.59-1.43-.59-.52 0-1.04.2-1.43.59L10.3 9.45l-7.72 7.72c-.78.78-.78 2.05 0 2.83L4 21.41c.39.39.9.59 1.41.59.51 0 1.02-.2 1.41-.59l7.78-7.78 2.81-2.81c.8-.78.8-2.07 0-2.86zM5.41 20L4 18.59l7.72-7.72 1.47 1.35L5.41 20z\"/>\n",
              "  </svg>\n",
              "      </button>\n",
              "      \n",
              "  <style>\n",
              "    .colab-df-container {\n",
              "      display:flex;\n",
              "      flex-wrap:wrap;\n",
              "      gap: 12px;\n",
              "    }\n",
              "\n",
              "    .colab-df-convert {\n",
              "      background-color: #E8F0FE;\n",
              "      border: none;\n",
              "      border-radius: 50%;\n",
              "      cursor: pointer;\n",
              "      display: none;\n",
              "      fill: #1967D2;\n",
              "      height: 32px;\n",
              "      padding: 0 0 0 0;\n",
              "      width: 32px;\n",
              "    }\n",
              "\n",
              "    .colab-df-convert:hover {\n",
              "      background-color: #E2EBFA;\n",
              "      box-shadow: 0px 1px 2px rgba(60, 64, 67, 0.3), 0px 1px 3px 1px rgba(60, 64, 67, 0.15);\n",
              "      fill: #174EA6;\n",
              "    }\n",
              "\n",
              "    [theme=dark] .colab-df-convert {\n",
              "      background-color: #3B4455;\n",
              "      fill: #D2E3FC;\n",
              "    }\n",
              "\n",
              "    [theme=dark] .colab-df-convert:hover {\n",
              "      background-color: #434B5C;\n",
              "      box-shadow: 0px 1px 3px 1px rgba(0, 0, 0, 0.15);\n",
              "      filter: drop-shadow(0px 1px 2px rgba(0, 0, 0, 0.3));\n",
              "      fill: #FFFFFF;\n",
              "    }\n",
              "  </style>\n",
              "\n",
              "      <script>\n",
              "        const buttonEl =\n",
              "          document.querySelector('#df-6d9f1f1c-4cb5-437f-a25e-898320dab32e button.colab-df-convert');\n",
              "        buttonEl.style.display =\n",
              "          google.colab.kernel.accessAllowed ? 'block' : 'none';\n",
              "\n",
              "        async function convertToInteractive(key) {\n",
              "          const element = document.querySelector('#df-6d9f1f1c-4cb5-437f-a25e-898320dab32e');\n",
              "          const dataTable =\n",
              "            await google.colab.kernel.invokeFunction('convertToInteractive',\n",
              "                                                     [key], {});\n",
              "          if (!dataTable) return;\n",
              "\n",
              "          const docLinkHtml = 'Like what you see? Visit the ' +\n",
              "            '<a target=\"_blank\" href=https://colab.research.google.com/notebooks/data_table.ipynb>data table notebook</a>'\n",
              "            + ' to learn more about interactive tables.';\n",
              "          element.innerHTML = '';\n",
              "          dataTable['output_type'] = 'display_data';\n",
              "          await google.colab.output.renderOutput(dataTable, element);\n",
              "          const docLink = document.createElement('div');\n",
              "          docLink.innerHTML = docLinkHtml;\n",
              "          element.appendChild(docLink);\n",
              "        }\n",
              "      </script>\n",
              "    </div>\n",
              "  </div>\n",
              "  "
            ]
          },
          "metadata": {},
          "execution_count": 61
        }
      ]
    },
    {
      "cell_type": "code",
      "source": [
        "user_features.head()"
      ],
      "metadata": {
        "colab": {
          "base_uri": "https://localhost:8080/",
          "height": 206
        },
        "id": "g-_1xD9Ppc2u",
        "outputId": "6a70ec38-3c9a-45a9-95d0-ff627b1d8679"
      },
      "execution_count": 62,
      "outputs": [
        {
          "output_type": "execute_result",
          "data": {
            "text/plain": [
              "  age_desc marital_status_code income_desc homeowner_desc      hh_comp_desc  \\\n",
              "0      65+                   A      35-49K      Homeowner  2 Adults No Kids   \n",
              "1    45-54                   A      50-74K      Homeowner  2 Adults No Kids   \n",
              "2    25-34                   U      25-34K        Unknown     2 Adults Kids   \n",
              "3    25-34                   U      75-99K      Homeowner     2 Adults Kids   \n",
              "4    45-54                   B      50-74K      Homeowner     Single Female   \n",
              "\n",
              "  household_size_desc kid_category_desc  user_id  \n",
              "0                   2      None/Unknown        1  \n",
              "1                   2      None/Unknown        7  \n",
              "2                   3                 1        8  \n",
              "3                   4                 2       13  \n",
              "4                   1      None/Unknown       16  "
            ],
            "text/html": [
              "\n",
              "  <div id=\"df-64dbdd8e-0300-4f38-b9ad-d99478d8aee9\">\n",
              "    <div class=\"colab-df-container\">\n",
              "      <div>\n",
              "<style scoped>\n",
              "    .dataframe tbody tr th:only-of-type {\n",
              "        vertical-align: middle;\n",
              "    }\n",
              "\n",
              "    .dataframe tbody tr th {\n",
              "        vertical-align: top;\n",
              "    }\n",
              "\n",
              "    .dataframe thead th {\n",
              "        text-align: right;\n",
              "    }\n",
              "</style>\n",
              "<table border=\"1\" class=\"dataframe\">\n",
              "  <thead>\n",
              "    <tr style=\"text-align: right;\">\n",
              "      <th></th>\n",
              "      <th>age_desc</th>\n",
              "      <th>marital_status_code</th>\n",
              "      <th>income_desc</th>\n",
              "      <th>homeowner_desc</th>\n",
              "      <th>hh_comp_desc</th>\n",
              "      <th>household_size_desc</th>\n",
              "      <th>kid_category_desc</th>\n",
              "      <th>user_id</th>\n",
              "    </tr>\n",
              "  </thead>\n",
              "  <tbody>\n",
              "    <tr>\n",
              "      <th>0</th>\n",
              "      <td>65+</td>\n",
              "      <td>A</td>\n",
              "      <td>35-49K</td>\n",
              "      <td>Homeowner</td>\n",
              "      <td>2 Adults No Kids</td>\n",
              "      <td>2</td>\n",
              "      <td>None/Unknown</td>\n",
              "      <td>1</td>\n",
              "    </tr>\n",
              "    <tr>\n",
              "      <th>1</th>\n",
              "      <td>45-54</td>\n",
              "      <td>A</td>\n",
              "      <td>50-74K</td>\n",
              "      <td>Homeowner</td>\n",
              "      <td>2 Adults No Kids</td>\n",
              "      <td>2</td>\n",
              "      <td>None/Unknown</td>\n",
              "      <td>7</td>\n",
              "    </tr>\n",
              "    <tr>\n",
              "      <th>2</th>\n",
              "      <td>25-34</td>\n",
              "      <td>U</td>\n",
              "      <td>25-34K</td>\n",
              "      <td>Unknown</td>\n",
              "      <td>2 Adults Kids</td>\n",
              "      <td>3</td>\n",
              "      <td>1</td>\n",
              "      <td>8</td>\n",
              "    </tr>\n",
              "    <tr>\n",
              "      <th>3</th>\n",
              "      <td>25-34</td>\n",
              "      <td>U</td>\n",
              "      <td>75-99K</td>\n",
              "      <td>Homeowner</td>\n",
              "      <td>2 Adults Kids</td>\n",
              "      <td>4</td>\n",
              "      <td>2</td>\n",
              "      <td>13</td>\n",
              "    </tr>\n",
              "    <tr>\n",
              "      <th>4</th>\n",
              "      <td>45-54</td>\n",
              "      <td>B</td>\n",
              "      <td>50-74K</td>\n",
              "      <td>Homeowner</td>\n",
              "      <td>Single Female</td>\n",
              "      <td>1</td>\n",
              "      <td>None/Unknown</td>\n",
              "      <td>16</td>\n",
              "    </tr>\n",
              "  </tbody>\n",
              "</table>\n",
              "</div>\n",
              "      <button class=\"colab-df-convert\" onclick=\"convertToInteractive('df-64dbdd8e-0300-4f38-b9ad-d99478d8aee9')\"\n",
              "              title=\"Convert this dataframe to an interactive table.\"\n",
              "              style=\"display:none;\">\n",
              "        \n",
              "  <svg xmlns=\"http://www.w3.org/2000/svg\" height=\"24px\"viewBox=\"0 0 24 24\"\n",
              "       width=\"24px\">\n",
              "    <path d=\"M0 0h24v24H0V0z\" fill=\"none\"/>\n",
              "    <path d=\"M18.56 5.44l.94 2.06.94-2.06 2.06-.94-2.06-.94-.94-2.06-.94 2.06-2.06.94zm-11 1L8.5 8.5l.94-2.06 2.06-.94-2.06-.94L8.5 2.5l-.94 2.06-2.06.94zm10 10l.94 2.06.94-2.06 2.06-.94-2.06-.94-.94-2.06-.94 2.06-2.06.94z\"/><path d=\"M17.41 7.96l-1.37-1.37c-.4-.4-.92-.59-1.43-.59-.52 0-1.04.2-1.43.59L10.3 9.45l-7.72 7.72c-.78.78-.78 2.05 0 2.83L4 21.41c.39.39.9.59 1.41.59.51 0 1.02-.2 1.41-.59l7.78-7.78 2.81-2.81c.8-.78.8-2.07 0-2.86zM5.41 20L4 18.59l7.72-7.72 1.47 1.35L5.41 20z\"/>\n",
              "  </svg>\n",
              "      </button>\n",
              "      \n",
              "  <style>\n",
              "    .colab-df-container {\n",
              "      display:flex;\n",
              "      flex-wrap:wrap;\n",
              "      gap: 12px;\n",
              "    }\n",
              "\n",
              "    .colab-df-convert {\n",
              "      background-color: #E8F0FE;\n",
              "      border: none;\n",
              "      border-radius: 50%;\n",
              "      cursor: pointer;\n",
              "      display: none;\n",
              "      fill: #1967D2;\n",
              "      height: 32px;\n",
              "      padding: 0 0 0 0;\n",
              "      width: 32px;\n",
              "    }\n",
              "\n",
              "    .colab-df-convert:hover {\n",
              "      background-color: #E2EBFA;\n",
              "      box-shadow: 0px 1px 2px rgba(60, 64, 67, 0.3), 0px 1px 3px 1px rgba(60, 64, 67, 0.15);\n",
              "      fill: #174EA6;\n",
              "    }\n",
              "\n",
              "    [theme=dark] .colab-df-convert {\n",
              "      background-color: #3B4455;\n",
              "      fill: #D2E3FC;\n",
              "    }\n",
              "\n",
              "    [theme=dark] .colab-df-convert:hover {\n",
              "      background-color: #434B5C;\n",
              "      box-shadow: 0px 1px 3px 1px rgba(0, 0, 0, 0.15);\n",
              "      filter: drop-shadow(0px 1px 2px rgba(0, 0, 0, 0.3));\n",
              "      fill: #FFFFFF;\n",
              "    }\n",
              "  </style>\n",
              "\n",
              "      <script>\n",
              "        const buttonEl =\n",
              "          document.querySelector('#df-64dbdd8e-0300-4f38-b9ad-d99478d8aee9 button.colab-df-convert');\n",
              "        buttonEl.style.display =\n",
              "          google.colab.kernel.accessAllowed ? 'block' : 'none';\n",
              "\n",
              "        async function convertToInteractive(key) {\n",
              "          const element = document.querySelector('#df-64dbdd8e-0300-4f38-b9ad-d99478d8aee9');\n",
              "          const dataTable =\n",
              "            await google.colab.kernel.invokeFunction('convertToInteractive',\n",
              "                                                     [key], {});\n",
              "          if (!dataTable) return;\n",
              "\n",
              "          const docLinkHtml = 'Like what you see? Visit the ' +\n",
              "            '<a target=\"_blank\" href=https://colab.research.google.com/notebooks/data_table.ipynb>data table notebook</a>'\n",
              "            + ' to learn more about interactive tables.';\n",
              "          element.innerHTML = '';\n",
              "          dataTable['output_type'] = 'display_data';\n",
              "          await google.colab.output.renderOutput(dataTable, element);\n",
              "          const docLink = document.createElement('div');\n",
              "          docLink.innerHTML = docLinkHtml;\n",
              "          element.appendChild(docLink);\n",
              "        }\n",
              "      </script>\n",
              "    </div>\n",
              "  </div>\n",
              "  "
            ]
          },
          "metadata": {},
          "execution_count": 62
        }
      ]
    },
    {
      "cell_type": "markdown",
      "source": [
        "**Количество уникальных значений**"
      ],
      "metadata": {
        "id": "k7xbKbdQpfs_"
      }
    },
    {
      "cell_type": "code",
      "source": [
        "data.nunique()"
      ],
      "metadata": {
        "colab": {
          "base_uri": "https://localhost:8080/"
        },
        "id": "88GVswxppjK4",
        "outputId": "d486bb5c-abcd-4c1f-ba87-5992a0c27a3d"
      },
      "execution_count": 63,
      "outputs": [
        {
          "output_type": "execute_result",
          "data": {
            "text/plain": [
              "user_id                2499\n",
              "basket_id            257001\n",
              "day                     663\n",
              "item_id               89051\n",
              "quantity              11246\n",
              "sales_value            5435\n",
              "store_id                573\n",
              "retail_disc            2364\n",
              "trans_time             1440\n",
              "week_no                  95\n",
              "coupon_disc             393\n",
              "coupon_match_disc        79\n",
              "dtype: int64"
            ]
          },
          "metadata": {},
          "execution_count": 63
        }
      ]
    },
    {
      "cell_type": "code",
      "source": [
        "item_features.nunique()"
      ],
      "metadata": {
        "colab": {
          "base_uri": "https://localhost:8080/"
        },
        "id": "KtNy5AvZpnFq",
        "outputId": "a64d1453-93fd-4330-9769-ef659131b35d"
      },
      "execution_count": 64,
      "outputs": [
        {
          "output_type": "execute_result",
          "data": {
            "text/plain": [
              "item_id                 92353\n",
              "manufacturer             6476\n",
              "department                 44\n",
              "brand                       2\n",
              "commodity_desc            308\n",
              "sub_commodity_desc       2383\n",
              "curr_size_of_product     4345\n",
              "dtype: int64"
            ]
          },
          "metadata": {},
          "execution_count": 64
        }
      ]
    },
    {
      "cell_type": "code",
      "source": [
        "user_features.nunique()"
      ],
      "metadata": {
        "colab": {
          "base_uri": "https://localhost:8080/"
        },
        "id": "styA35f9ppKL",
        "outputId": "2d97fdf6-1c70-4809-9ed2-4a4951d05749"
      },
      "execution_count": 65,
      "outputs": [
        {
          "output_type": "execute_result",
          "data": {
            "text/plain": [
              "age_desc                 6\n",
              "marital_status_code      3\n",
              "income_desc             12\n",
              "homeowner_desc           5\n",
              "hh_comp_desc             6\n",
              "household_size_desc      5\n",
              "kid_category_desc        4\n",
              "user_id                801\n",
              "dtype: int64"
            ]
          },
          "metadata": {},
          "execution_count": 65
        }
      ]
    },
    {
      "cell_type": "markdown",
      "source": [
        "# Обзор категориальных переменных"
      ],
      "metadata": {
        "id": "X-zcTwAfpuOP"
      }
    },
    {
      "cell_type": "code",
      "source": [
        "item_features['department'].unique()"
      ],
      "metadata": {
        "colab": {
          "base_uri": "https://localhost:8080/"
        },
        "id": "xWSJ_YHvpzMK",
        "outputId": "3d65c437-9c23-44f8-89db-826f2fccb7ef"
      },
      "execution_count": 66,
      "outputs": [
        {
          "output_type": "execute_result",
          "data": {
            "text/plain": [
              "array(['GROCERY', 'MISC. TRANS.', 'PASTRY', 'DRUG GM', 'MEAT-PCKGD',\n",
              "       'SEAFOOD-PCKGD', 'PRODUCE', 'NUTRITION', 'DELI', 'COSMETICS',\n",
              "       'MEAT', 'FLORAL', 'TRAVEL & LEISUR', 'SEAFOOD', 'MISC SALES TRAN',\n",
              "       'SALAD BAR', 'KIOSK-GAS', 'ELECT &PLUMBING', 'GRO BAKERY',\n",
              "       'GM MERCH EXP', 'FROZEN GROCERY', 'COUP/STR & MFG', 'SPIRITS',\n",
              "       'GARDEN CENTER', 'TOYS', 'CHARITABLE CONT', 'RESTAURANT', 'RX',\n",
              "       'PROD-WHS SALES', 'MEAT-WHSE', 'DAIRY DELI', 'CHEF SHOPPE', 'HBC',\n",
              "       'DELI/SNACK BAR', 'PORK', 'AUTOMOTIVE', 'VIDEO RENTAL', ' ',\n",
              "       'CNTRL/STORE SUP', 'HOUSEWARES', 'POSTAL CENTER', 'PHOTO', 'VIDEO',\n",
              "       'PHARMACY SUPPLY'], dtype=object)"
            ]
          },
          "metadata": {},
          "execution_count": 66
        }
      ]
    },
    {
      "cell_type": "markdown",
      "source": [
        "**Категориальные переменные фичей пользователей**"
      ],
      "metadata": {
        "id": "nRuM1EWlp1bE"
      }
    },
    {
      "cell_type": "code",
      "source": [
        "for column in user_features.columns[:-1]:\n",
        "    print(column, ':', user_features[column].unique(), '\\n')"
      ],
      "metadata": {
        "colab": {
          "base_uri": "https://localhost:8080/"
        },
        "id": "R16FSGb9p4t0",
        "outputId": "6c2d36b7-f370-4dee-bfc7-e85467994fbe"
      },
      "execution_count": 67,
      "outputs": [
        {
          "output_type": "stream",
          "name": "stdout",
          "text": [
            "age_desc : ['65+' '45-54' '25-34' '35-44' '19-24' '55-64'] \n",
            "\n",
            "marital_status_code : ['A' 'U' 'B'] \n",
            "\n",
            "income_desc : ['35-49K' '50-74K' '25-34K' '75-99K' 'Under 15K' '100-124K' '15-24K'\n",
            " '125-149K' '150-174K' '250K+' '175-199K' '200-249K'] \n",
            "\n",
            "homeowner_desc : ['Homeowner' 'Unknown' 'Renter' 'Probable Renter' 'Probable Owner'] \n",
            "\n",
            "hh_comp_desc : ['2 Adults No Kids' '2 Adults Kids' 'Single Female' 'Unknown'\n",
            " 'Single Male' '1 Adult Kids'] \n",
            "\n",
            "household_size_desc : ['2' '3' '4' '1' '5+'] \n",
            "\n",
            "kid_category_desc : ['None/Unknown' '1' '2' '3+'] \n",
            "\n"
          ]
        }
      ]
    },
    {
      "cell_type": "code",
      "source": [
        "data.hist(figsize=(16,16), bins=100, grid=False);"
      ],
      "metadata": {
        "colab": {
          "base_uri": "https://localhost:8080/",
          "height": 934
        },
        "id": "SuTEYiojp7TJ",
        "outputId": "9ffd8227-8fcd-4b24-8388-f501546af664"
      },
      "execution_count": 68,
      "outputs": [
        {
          "output_type": "display_data",
          "data": {
            "text/plain": [
              "<Figure size 1152x1152 with 12 Axes>"
            ],
            "image/png": "[encoded data removed]"
          },
          "metadata": {
            "needs_background": "light"
          }
        }
      ]
    },
    {
      "cell_type": "code",
      "source": [
        "sns.kdeplot(data=data['day']);"
      ],
      "metadata": {
        "colab": {
          "base_uri": "https://localhost:8080/",
          "height": 279
        },
        "id": "W5uxlNxlp-xq",
        "outputId": "d6981207-12e2-4fec-88f3-a9f5949a6765"
      },
      "execution_count": 69,
      "outputs": [
        {
          "output_type": "display_data",
          "data": {
            "text/plain": [
              "<Figure size 432x288 with 1 Axes>"
            ],
            "image/png": "[encoded data removed]"
          },
          "metadata": {
            "needs_background": "light"
          }
        }
      ]
    },
    {
      "cell_type": "code",
      "source": [
        "sns.kdeplot(data=data['week_no']);"
      ],
      "metadata": {
        "colab": {
          "base_uri": "https://localhost:8080/",
          "height": 280
        },
        "id": "hOMEvB8UqBWB",
        "outputId": "658f3a42-198c-4f35-b39b-c6d00c0d947f"
      },
      "execution_count": 70,
      "outputs": [
        {
          "output_type": "display_data",
          "data": {
            "text/plain": [
              "<Figure size 432x288 with 1 Axes>"
            ],
            "image/png": "[encoded data removed]"
          },
          "metadata": {
            "needs_background": "light"
          }
        }
      ]
    },
    {
      "cell_type": "code",
      "source": [
        "from scipy.stats import pearsonr\n",
        "\n",
        "pearsonr(data['week_no'], data['day'])[0]"
      ],
      "metadata": {
        "colab": {
          "base_uri": "https://localhost:8080/"
        },
        "id": "UNJuGPK5qDTF",
        "outputId": "407f61fe-df92-4440-8835-2b4826dc664b"
      },
      "execution_count": 71,
      "outputs": [
        {
          "output_type": "execute_result",
          "data": {
            "text/plain": [
              "0.9999312126291934"
            ]
          },
          "metadata": {},
          "execution_count": 71
        }
      ]
    },
    {
      "cell_type": "code",
      "source": [
        "f, ax = plt.subplots(figsize=(7, 6))\n",
        "ax.set_yscale(\"log\")\n",
        "sns.histplot(data=data['coupon_disc']);"
      ],
      "metadata": {
        "colab": {
          "base_uri": "https://localhost:8080/",
          "height": 389
        },
        "id": "aAB7-9EoqFl_",
        "outputId": "5bb9c2b9-4cb2-4af8-d926-2dd647544af3"
      },
      "execution_count": 72,
      "outputs": [
        {
          "output_type": "display_data",
          "data": {
            "text/plain": [
              "<Figure size 504x432 with 1 Axes>"
            ],
            "image/png": "[encoded data removed]"
          },
          "metadata": {
            "needs_background": "light"
          }
        }
      ]
    },
    {
      "cell_type": "code",
      "source": [
        "f, ax = plt.subplots(figsize=(7, 6))\n",
        "ax.set_yscale(\"log\")\n",
        "sns.histplot(data=data['quantity']);"
      ],
      "metadata": {
        "colab": {
          "base_uri": "https://localhost:8080/",
          "height": 388
        },
        "id": "MQp8qXx6qHvl",
        "outputId": "a08d25ac-30cb-4afd-d6da-96031c3d394d"
      },
      "execution_count": 73,
      "outputs": [
        {
          "output_type": "display_data",
          "data": {
            "text/plain": [
              "<Figure size 504x432 with 1 Axes>"
            ],
            "image/png": "[encoded data removed]"
          },
          "metadata": {
            "needs_background": "light"
          }
        }
      ]
    },
    {
      "cell_type": "code",
      "source": [
        "f, ax = plt.subplots(figsize=(7, 6))\n",
        "ax.set_yscale(\"log\")\n",
        "sns.histplot(data=data['sales_value']);"
      ],
      "metadata": {
        "colab": {
          "base_uri": "https://localhost:8080/",
          "height": 389
        },
        "id": "eNP-zcfPqKkn",
        "outputId": "955109ef-d787-4186-b71e-4379b1670e26"
      },
      "execution_count": 74,
      "outputs": [
        {
          "output_type": "display_data",
          "data": {
            "text/plain": [
              "<Figure size 504x432 with 1 Axes>"
            ],
            "image/png": "[encoded data removed]"
          },
          "metadata": {
            "needs_background": "light"
          }
        }
      ]
    },
    {
      "cell_type": "code",
      "source": [
        "f, ax = plt.subplots(figsize=(7, 6))\n",
        "ax.set_yscale(\"log\")\n",
        "sns.histplot(data=data['coupon_disc']);"
      ],
      "metadata": {
        "colab": {
          "base_uri": "https://localhost:8080/",
          "height": 389
        },
        "id": "cYP9iBWXqNVh",
        "outputId": "bb89abef-dd24-4637-ec99-ef76b4fdbf90"
      },
      "execution_count": 75,
      "outputs": [
        {
          "output_type": "display_data",
          "data": {
            "text/plain": [
              "<Figure size 504x432 with 1 Axes>"
            ],
            "image/png": "[encoded data removed]"
          },
          "metadata": {
            "needs_background": "light"
          }
        }
      ]
    },
    {
      "cell_type": "code",
      "source": [
        "f, ax = plt.subplots(figsize=(7, 6))\n",
        "ax.set_yscale(\"log\")\n",
        "sns.histplot(data=data['coupon_match_disc']);"
      ],
      "metadata": {
        "colab": {
          "base_uri": "https://localhost:8080/",
          "height": 389
        },
        "id": "Fd7k_M-SqSaO",
        "outputId": "beadcaf2-11c1-492a-bdfb-5b7cc243f0fb"
      },
      "execution_count": 76,
      "outputs": [
        {
          "output_type": "display_data",
          "data": {
            "text/plain": [
              "<Figure size 504x432 with 1 Axes>"
            ],
            "image/png": "[encoded data removed]"
          },
          "metadata": {
            "needs_background": "light"
          }
        }
      ]
    },
    {
      "cell_type": "markdown",
      "source": [
        "# Обучение модели ALS"
      ],
      "metadata": {
        "id": "d2QSWY__qVOe"
      }
    },
    {
      "cell_type": "markdown",
      "source": [
        "**Количество уникальных items и user до и после префильтрации data_train_lvl_1**"
      ],
      "metadata": {
        "id": "GPJda12cqY0I"
      }
    },
    {
      "cell_type": "markdown",
      "source": [
        "# Utils"
      ],
      "metadata": {
        "id": "pVQNgpstvclD"
      }
    },
    {
      "cell_type": "code",
      "source": [
        "from implicit.nearest_neighbours import ItemItemRecommender \n",
        "from scipy.sparse import csr_matrix\n",
        "\n",
        "\n",
        "def prefilter_items(data, item_features, take_n_popular=5000):\n",
        "    # Уберем самые популярные товары (их и так купят)\n",
        "    popularity = data.groupby('item_id')['user_id'].nunique().reset_index() \n",
        "    popularity['share_unique_users'] = popularity['user_id'] / data['user_id'].nunique()\n",
        "    \n",
        "    top_popular = popularity[popularity['share_unique_users'] > 0.5].item_id.tolist()\n",
        "    data = data[~data['item_id'].isin(top_popular)]\n",
        "    \n",
        "    # Уберем самые НЕ популярные товары (их и так НЕ купят)\n",
        "    top_notpopular = popularity[popularity['share_unique_users'] < 0.01].item_id.tolist()\n",
        "    data = data[~data['item_id'].isin(top_notpopular)]\n",
        "    \n",
        "    # Уберем товары, которые не продавались за последние 12 месяцев\n",
        "    \n",
        "    # Уберем не интересные для рекоммендаций категории (department)\n",
        "    \n",
        "    # Уберем слишком дешевые товары (на них не заработаем). 1 покупка из рассылок стоит 60 руб. \n",
        "    \n",
        "    # Уберем слишком дорогие товарыs\n",
        "    \n",
        "    # ...\n",
        "    return data\n",
        "    \n",
        "def postfilter_items(user_id, recommednations):\n",
        "    pass\n",
        "\n",
        "def get_rec(model, x, itemid_to_id, id_to_itemid):\n",
        "    \n",
        "    recs = model.similar_items(itemid_to_id[x], N=2)\n",
        "    top_rec = recs[1][0]\n",
        "    return id_to_itemid[top_rec]\n",
        "\n",
        "def get_recommendations(user, model, sparse_user_item, itemid_to_id, id_to_itemid, userid_to_id, N=5):\n",
        "    \"\"\"Рекомендуем топ-N товаров\"\"\"\n",
        "    res = [id_to_itemid[rec[0]] for rec in \n",
        "                    model.recommend(userid=userid_to_id[user], \n",
        "                                    user_items=sparse_user_item,   # на вход user-item matrix\n",
        "                                    N=N, \n",
        "                                    filter_already_liked_items=False, \n",
        "                                    filter_items=None,  # !!! \n",
        "                                    recalculate_user=True)]\n",
        "    return res\n",
        "\n",
        "\n",
        "def get_similar_items_recommendation(data, user, model, itemid_to_id, id_to_itemid, N=5):\n",
        "    \"\"\"Рекомендуем товары, похожие на топ-N купленных юзером товаров\"\"\"\n",
        "    popularity= data[data['user_id']==user]\n",
        "    popularity = popularity.groupby(['item_id'])['quantity'].count().reset_index()\n",
        "    popularity.sort_values('quantity', ascending=False, inplace=True)\n",
        "    popularity = popularity.head(N)   \n",
        "    popularity['similar_recommendation'] = popularity['item_id'].apply(lambda x: get_rec(model, x, itemid_to_id, id_to_itemid))\n",
        "    res = popularity['similar_recommendation'].to_list()\n",
        "    \n",
        "    return res\n",
        "\n",
        "def get_similar_users_recommendation(user, model, user_item_matrix, itemid_to_id, id_to_itemid, userid_to_id, N=5):\n",
        "    \"\"\"Рекомендуем топ-N товаров, среди купленных похожими юзерами\"\"\"\n",
        "    similar_users = model.similar_users(userid_to_id[user], N+1)\n",
        "    \n",
        "    own = ItemItemRecommender(K=1, num_threads=4) # K - кол-во билжайших соседей\n",
        "    own.fit(csr_matrix(user_item_matrix).T.tocsr(), show_progress=False)\n",
        "    \n",
        "    res = []\n",
        "    #первый пользователь - это он сам    \n",
        "    for i in range(len(similar_users)):\n",
        "        if i==0:\n",
        "            continue\n",
        "        sparse_user_item = csr_matrix(user_item_matrix).tocsr()\n",
        "        rec = get_recommendations(i, own, sparse_user_item, itemid_to_id, id_to_itemid, userid_to_id, N=1)\n",
        "        res.append(rec[0])\n",
        "    \n",
        "    return res"
      ],
      "metadata": {
        "id": "1VLs9LDnBdv2"
      },
      "execution_count": 85,
      "outputs": []
    },
    {
      "cell_type": "code",
      "source": [
        "n_items_before = data_train_lvl_1['item_id'].nunique()\n",
        "data_train_lvl_1 = prefilter_items(data_train_lvl_1, item_features=item_features, take_n_popular=5000)\n",
        "n_items_after = data_train_lvl_1['item_id'].nunique()\n",
        "print('Decreased # items from {} to {}'.format(n_items_before, n_items_after))"
      ],
      "metadata": {
        "colab": {
          "base_uri": "https://localhost:8080/"
        },
        "id": "X54_5TZxqcoT",
        "outputId": "67a66a59-07d6-4cb5-89dc-7667ca033e97"
      },
      "execution_count": 86,
      "outputs": [
        {
          "output_type": "stream",
          "name": "stdout",
          "text": [
            "Decreased # items from 11276 to 11276\n"
          ]
        }
      ]
    },
    {
      "cell_type": "code",
      "source": [
        "user_features.nunique()"
      ],
      "metadata": {
        "colab": {
          "base_uri": "https://localhost:8080/"
        },
        "id": "Nt9TeCsUqedO",
        "outputId": "1021e961-37b9-4204-eb18-bdead9413979"
      },
      "execution_count": 87,
      "outputs": [
        {
          "output_type": "execute_result",
          "data": {
            "text/plain": [
              "age_desc                 6\n",
              "marital_status_code      3\n",
              "income_desc             12\n",
              "homeowner_desc           5\n",
              "hh_comp_desc             6\n",
              "household_size_desc      5\n",
              "kid_category_desc        4\n",
              "user_id                801\n",
              "dtype: int64"
            ]
          },
          "metadata": {},
          "execution_count": 87
        }
      ]
    },
    {
      "cell_type": "markdown",
      "source": [
        "**Перекодируем признаки**"
      ],
      "metadata": {
        "id": "YYVQV_FBqhE0"
      }
    },
    {
      "cell_type": "code",
      "source": [
        "user_features['age_desc'].replace(\n",
        "    {'19-24': 22, '25-34': 30, '35-44': 40, '45-54': 50, '55-64': 60, '65+': 70},\n",
        "    inplace=True)\n",
        "\n",
        "user_features['marital_status_code'].replace(\n",
        "    {'U': 0, 'A': 1, 'B': 2}, inplace=True)\n",
        "\n",
        "user_features['income_desc'].replace(\n",
        "    {'Under 15K': 10, '15-24K': 20, '25-34K':30, '35-49K': 40,\n",
        "     '50-74K': 62, '75-99K': 87, '100-124K': 112, '125-149K': 137, \n",
        "     '150-174K': 162, '175-199K': 187, '200-249K': 225, '250K+':275}, inplace=True)\n",
        "\n",
        "user_features['homeowner_desc'].replace(\n",
        "    {'Unknown': 0, 'Probable Renter': 1, 'Renter': 2,\n",
        "     'Probable Owner': 3, 'Homeowner': 4}, inplace=True)\n",
        "\n",
        "user_features['hh_comp_desc'].replace(\n",
        "    {'Unknown': 0, 'Single Male': 1, 'Single Female': 2,\n",
        "     '1 Adult Kids': 3, '2 Adults No Kids': 4, '2 Adults Kids':5},inplace=True)\n",
        "\n",
        "user_features['household_size_desc'].replace({'5+': 5}, inplace=True) \n",
        "\n",
        "user_features['kid_category_desc'].replace(\n",
        "    {'None/Unknown': 0, '3+': 3}, inplace=True)\n",
        "\n",
        "user_features.head(2)"
      ],
      "metadata": {
        "colab": {
          "base_uri": "https://localhost:8080/",
          "height": 112
        },
        "id": "2P2w9ODwqmMs",
        "outputId": "0bdccd9c-dd53-4a6c-e74f-6c37b33401ed"
      },
      "execution_count": 88,
      "outputs": [
        {
          "output_type": "execute_result",
          "data": {
            "text/plain": [
              "   age_desc  marital_status_code  income_desc  homeowner_desc  hh_comp_desc  \\\n",
              "0        70                    1           40               4             4   \n",
              "1        50                    1           62               4             4   \n",
              "\n",
              "  household_size_desc kid_category_desc  user_id  \n",
              "0                   2                 0        1  \n",
              "1                   2                 0        7  "
            ],
            "text/html": [
              "\n",
              "  <div id=\"df-b9e93a1d-557d-46ed-bea8-6b01570071f9\">\n",
              "    <div class=\"colab-df-container\">\n",
              "      <div>\n",
              "<style scoped>\n",
              "    .dataframe tbody tr th:only-of-type {\n",
              "        vertical-align: middle;\n",
              "    }\n",
              "\n",
              "    .dataframe tbody tr th {\n",
              "        vertical-align: top;\n",
              "    }\n",
              "\n",
              "    .dataframe thead th {\n",
              "        text-align: right;\n",
              "    }\n",
              "</style>\n",
              "<table border=\"1\" class=\"dataframe\">\n",
              "  <thead>\n",
              "    <tr style=\"text-align: right;\">\n",
              "      <th></th>\n",
              "      <th>age_desc</th>\n",
              "      <th>marital_status_code</th>\n",
              "      <th>income_desc</th>\n",
              "      <th>homeowner_desc</th>\n",
              "      <th>hh_comp_desc</th>\n",
              "      <th>household_size_desc</th>\n",
              "      <th>kid_category_desc</th>\n",
              "      <th>user_id</th>\n",
              "    </tr>\n",
              "  </thead>\n",
              "  <tbody>\n",
              "    <tr>\n",
              "      <th>0</th>\n",
              "      <td>70</td>\n",
              "      <td>1</td>\n",
              "      <td>40</td>\n",
              "      <td>4</td>\n",
              "      <td>4</td>\n",
              "      <td>2</td>\n",
              "      <td>0</td>\n",
              "      <td>1</td>\n",
              "    </tr>\n",
              "    <tr>\n",
              "      <th>1</th>\n",
              "      <td>50</td>\n",
              "      <td>1</td>\n",
              "      <td>62</td>\n",
              "      <td>4</td>\n",
              "      <td>4</td>\n",
              "      <td>2</td>\n",
              "      <td>0</td>\n",
              "      <td>7</td>\n",
              "    </tr>\n",
              "  </tbody>\n",
              "</table>\n",
              "</div>\n",
              "      <button class=\"colab-df-convert\" onclick=\"convertToInteractive('df-b9e93a1d-557d-46ed-bea8-6b01570071f9')\"\n",
              "              title=\"Convert this dataframe to an interactive table.\"\n",
              "              style=\"display:none;\">\n",
              "        \n",
              "  <svg xmlns=\"http://www.w3.org/2000/svg\" height=\"24px\"viewBox=\"0 0 24 24\"\n",
              "       width=\"24px\">\n",
              "    <path d=\"M0 0h24v24H0V0z\" fill=\"none\"/>\n",
              "    <path d=\"M18.56 5.44l.94 2.06.94-2.06 2.06-.94-2.06-.94-.94-2.06-.94 2.06-2.06.94zm-11 1L8.5 8.5l.94-2.06 2.06-.94-2.06-.94L8.5 2.5l-.94 2.06-2.06.94zm10 10l.94 2.06.94-2.06 2.06-.94-2.06-.94-.94-2.06-.94 2.06-2.06.94z\"/><path d=\"M17.41 7.96l-1.37-1.37c-.4-.4-.92-.59-1.43-.59-.52 0-1.04.2-1.43.59L10.3 9.45l-7.72 7.72c-.78.78-.78 2.05 0 2.83L4 21.41c.39.39.9.59 1.41.59.51 0 1.02-.2 1.41-.59l7.78-7.78 2.81-2.81c.8-.78.8-2.07 0-2.86zM5.41 20L4 18.59l7.72-7.72 1.47 1.35L5.41 20z\"/>\n",
              "  </svg>\n",
              "      </button>\n",
              "      \n",
              "  <style>\n",
              "    .colab-df-container {\n",
              "      display:flex;\n",
              "      flex-wrap:wrap;\n",
              "      gap: 12px;\n",
              "    }\n",
              "\n",
              "    .colab-df-convert {\n",
              "      background-color: #E8F0FE;\n",
              "      border: none;\n",
              "      border-radius: 50%;\n",
              "      cursor: pointer;\n",
              "      display: none;\n",
              "      fill: #1967D2;\n",
              "      height: 32px;\n",
              "      padding: 0 0 0 0;\n",
              "      width: 32px;\n",
              "    }\n",
              "\n",
              "    .colab-df-convert:hover {\n",
              "      background-color: #E2EBFA;\n",
              "      box-shadow: 0px 1px 2px rgba(60, 64, 67, 0.3), 0px 1px 3px 1px rgba(60, 64, 67, 0.15);\n",
              "      fill: #174EA6;\n",
              "    }\n",
              "\n",
              "    [theme=dark] .colab-df-convert {\n",
              "      background-color: #3B4455;\n",
              "      fill: #D2E3FC;\n",
              "    }\n",
              "\n",
              "    [theme=dark] .colab-df-convert:hover {\n",
              "      background-color: #434B5C;\n",
              "      box-shadow: 0px 1px 3px 1px rgba(0, 0, 0, 0.15);\n",
              "      filter: drop-shadow(0px 1px 2px rgba(0, 0, 0, 0.3));\n",
              "      fill: #FFFFFF;\n",
              "    }\n",
              "  </style>\n",
              "\n",
              "      <script>\n",
              "        const buttonEl =\n",
              "          document.querySelector('#df-b9e93a1d-557d-46ed-bea8-6b01570071f9 button.colab-df-convert');\n",
              "        buttonEl.style.display =\n",
              "          google.colab.kernel.accessAllowed ? 'block' : 'none';\n",
              "\n",
              "        async function convertToInteractive(key) {\n",
              "          const element = document.querySelector('#df-b9e93a1d-557d-46ed-bea8-6b01570071f9');\n",
              "          const dataTable =\n",
              "            await google.colab.kernel.invokeFunction('convertToInteractive',\n",
              "                                                     [key], {});\n",
              "          if (!dataTable) return;\n",
              "\n",
              "          const docLinkHtml = 'Like what you see? Visit the ' +\n",
              "            '<a target=\"_blank\" href=https://colab.research.google.com/notebooks/data_table.ipynb>data table notebook</a>'\n",
              "            + ' to learn more about interactive tables.';\n",
              "          element.innerHTML = '';\n",
              "          dataTable['output_type'] = 'display_data';\n",
              "          await google.colab.output.renderOutput(dataTable, element);\n",
              "          const docLink = document.createElement('div');\n",
              "          docLink.innerHTML = docLinkHtml;\n",
              "          element.appendChild(docLink);\n",
              "        }\n",
              "      </script>\n",
              "    </div>\n",
              "  </div>\n",
              "  "
            ]
          },
          "metadata": {},
          "execution_count": 88
        }
      ]
    },
    {
      "cell_type": "code",
      "source": [
        "names = ['manufacturer', 'department', 'commodity_desc', 'sub_commodity_desc', 'curr_size_of_product']\n",
        "for name in names:\n",
        "    new_name = name + '_freq'\n",
        "    a = item_features[name].value_counts()\n",
        "    ind = a.index.tolist()\n",
        "    for i in ind:\n",
        "        item_features.loc[item_features[name] == i, new_name] = a[i]\n",
        "\n",
        "item_features['brand'] = np.where(item_features['brand']=='Private', 0, 1)\n",
        "\n",
        "commodities = item_features.commodity_desc.value_counts()\n",
        "commodities_list = commodities.keys().tolist()\n",
        "for i, name in enumerate(commodities_list):\n",
        "    item_features.loc[item_features['commodity_desc'] == name, 'commodity_category'] = i\n",
        "\n",
        "item_features.head(2)"
      ],
      "metadata": {
        "colab": {
          "base_uri": "https://localhost:8080/",
          "height": 193
        },
        "id": "omqGs_2lqpFJ",
        "outputId": "ca210354-0812-48a0-e035-e6f3939ef67c"
      },
      "execution_count": 89,
      "outputs": [
        {
          "output_type": "execute_result",
          "data": {
            "text/plain": [
              "   item_id  manufacturer    department  brand            commodity_desc  \\\n",
              "0    25671             2       GROCERY      1                  FRZN ICE   \n",
              "1    26081             2  MISC. TRANS.      1  NO COMMODITY DESCRIPTION   \n",
              "\n",
              "            sub_commodity_desc curr_size_of_product  manufacturer_freq  \\\n",
              "0          ICE - CRUSHED/CUBED                22 LB             1411.0   \n",
              "1  NO SUBCOMMODITY DESCRIPTION                                  1411.0   \n",
              "\n",
              "   department_freq  commodity_desc_freq  sub_commodity_desc_freq  \\\n",
              "0          39021.0                 29.0                     29.0   \n",
              "1            490.0                490.0                    429.0   \n",
              "\n",
              "   curr_size_of_product_freq  commodity_category  \n",
              "0                       12.0               270.0  \n",
              "1                    30607.0                56.0  "
            ],
            "text/html": [
              "\n",
              "  <div id=\"df-dc148a55-4950-4327-9a89-be38c9cee5b8\">\n",
              "    <div class=\"colab-df-container\">\n",
              "      <div>\n",
              "<style scoped>\n",
              "    .dataframe tbody tr th:only-of-type {\n",
              "        vertical-align: middle;\n",
              "    }\n",
              "\n",
              "    .dataframe tbody tr th {\n",
              "        vertical-align: top;\n",
              "    }\n",
              "\n",
              "    .dataframe thead th {\n",
              "        text-align: right;\n",
              "    }\n",
              "</style>\n",
              "<table border=\"1\" class=\"dataframe\">\n",
              "  <thead>\n",
              "    <tr style=\"text-align: right;\">\n",
              "      <th></th>\n",
              "      <th>item_id</th>\n",
              "      <th>manufacturer</th>\n",
              "      <th>department</th>\n",
              "      <th>brand</th>\n",
              "      <th>commodity_desc</th>\n",
              "      <th>sub_commodity_desc</th>\n",
              "      <th>curr_size_of_product</th>\n",
              "      <th>manufacturer_freq</th>\n",
              "      <th>department_freq</th>\n",
              "      <th>commodity_desc_freq</th>\n",
              "      <th>sub_commodity_desc_freq</th>\n",
              "      <th>curr_size_of_product_freq</th>\n",
              "      <th>commodity_category</th>\n",
              "    </tr>\n",
              "  </thead>\n",
              "  <tbody>\n",
              "    <tr>\n",
              "      <th>0</th>\n",
              "      <td>25671</td>\n",
              "      <td>2</td>\n",
              "      <td>GROCERY</td>\n",
              "      <td>1</td>\n",
              "      <td>FRZN ICE</td>\n",
              "      <td>ICE - CRUSHED/CUBED</td>\n",
              "      <td>22 LB</td>\n",
              "      <td>1411.0</td>\n",
              "      <td>39021.0</td>\n",
              "      <td>29.0</td>\n",
              "      <td>29.0</td>\n",
              "      <td>12.0</td>\n",
              "      <td>270.0</td>\n",
              "    </tr>\n",
              "    <tr>\n",
              "      <th>1</th>\n",
              "      <td>26081</td>\n",
              "      <td>2</td>\n",
              "      <td>MISC. TRANS.</td>\n",
              "      <td>1</td>\n",
              "      <td>NO COMMODITY DESCRIPTION</td>\n",
              "      <td>NO SUBCOMMODITY DESCRIPTION</td>\n",
              "      <td></td>\n",
              "      <td>1411.0</td>\n",
              "      <td>490.0</td>\n",
              "      <td>490.0</td>\n",
              "      <td>429.0</td>\n",
              "      <td>30607.0</td>\n",
              "      <td>56.0</td>\n",
              "    </tr>\n",
              "  </tbody>\n",
              "</table>\n",
              "</div>\n",
              "      <button class=\"colab-df-convert\" onclick=\"convertToInteractive('df-dc148a55-4950-4327-9a89-be38c9cee5b8')\"\n",
              "              title=\"Convert this dataframe to an interactive table.\"\n",
              "              style=\"display:none;\">\n",
              "        \n",
              "  <svg xmlns=\"http://www.w3.org/2000/svg\" height=\"24px\"viewBox=\"0 0 24 24\"\n",
              "       width=\"24px\">\n",
              "    <path d=\"M0 0h24v24H0V0z\" fill=\"none\"/>\n",
              "    <path d=\"M18.56 5.44l.94 2.06.94-2.06 2.06-.94-2.06-.94-.94-2.06-.94 2.06-2.06.94zm-11 1L8.5 8.5l.94-2.06 2.06-.94-2.06-.94L8.5 2.5l-.94 2.06-2.06.94zm10 10l.94 2.06.94-2.06 2.06-.94-2.06-.94-.94-2.06-.94 2.06-2.06.94z\"/><path d=\"M17.41 7.96l-1.37-1.37c-.4-.4-.92-.59-1.43-.59-.52 0-1.04.2-1.43.59L10.3 9.45l-7.72 7.72c-.78.78-.78 2.05 0 2.83L4 21.41c.39.39.9.59 1.41.59.51 0 1.02-.2 1.41-.59l7.78-7.78 2.81-2.81c.8-.78.8-2.07 0-2.86zM5.41 20L4 18.59l7.72-7.72 1.47 1.35L5.41 20z\"/>\n",
              "  </svg>\n",
              "      </button>\n",
              "      \n",
              "  <style>\n",
              "    .colab-df-container {\n",
              "      display:flex;\n",
              "      flex-wrap:wrap;\n",
              "      gap: 12px;\n",
              "    }\n",
              "\n",
              "    .colab-df-convert {\n",
              "      background-color: #E8F0FE;\n",
              "      border: none;\n",
              "      border-radius: 50%;\n",
              "      cursor: pointer;\n",
              "      display: none;\n",
              "      fill: #1967D2;\n",
              "      height: 32px;\n",
              "      padding: 0 0 0 0;\n",
              "      width: 32px;\n",
              "    }\n",
              "\n",
              "    .colab-df-convert:hover {\n",
              "      background-color: #E2EBFA;\n",
              "      box-shadow: 0px 1px 2px rgba(60, 64, 67, 0.3), 0px 1px 3px 1px rgba(60, 64, 67, 0.15);\n",
              "      fill: #174EA6;\n",
              "    }\n",
              "\n",
              "    [theme=dark] .colab-df-convert {\n",
              "      background-color: #3B4455;\n",
              "      fill: #D2E3FC;\n",
              "    }\n",
              "\n",
              "    [theme=dark] .colab-df-convert:hover {\n",
              "      background-color: #434B5C;\n",
              "      box-shadow: 0px 1px 3px 1px rgba(0, 0, 0, 0.15);\n",
              "      filter: drop-shadow(0px 1px 2px rgba(0, 0, 0, 0.3));\n",
              "      fill: #FFFFFF;\n",
              "    }\n",
              "  </style>\n",
              "\n",
              "      <script>\n",
              "        const buttonEl =\n",
              "          document.querySelector('#df-dc148a55-4950-4327-9a89-be38c9cee5b8 button.colab-df-convert');\n",
              "        buttonEl.style.display =\n",
              "          google.colab.kernel.accessAllowed ? 'block' : 'none';\n",
              "\n",
              "        async function convertToInteractive(key) {\n",
              "          const element = document.querySelector('#df-dc148a55-4950-4327-9a89-be38c9cee5b8');\n",
              "          const dataTable =\n",
              "            await google.colab.kernel.invokeFunction('convertToInteractive',\n",
              "                                                     [key], {});\n",
              "          if (!dataTable) return;\n",
              "\n",
              "          const docLinkHtml = 'Like what you see? Visit the ' +\n",
              "            '<a target=\"_blank\" href=https://colab.research.google.com/notebooks/data_table.ipynb>data table notebook</a>'\n",
              "            + ' to learn more about interactive tables.';\n",
              "          element.innerHTML = '';\n",
              "          dataTable['output_type'] = 'display_data';\n",
              "          await google.colab.output.renderOutput(dataTable, element);\n",
              "          const docLink = document.createElement('div');\n",
              "          docLink.innerHTML = docLinkHtml;\n",
              "          element.appendChild(docLink);\n",
              "        }\n",
              "      </script>\n",
              "    </div>\n",
              "  </div>\n",
              "  "
            ]
          },
          "metadata": {},
          "execution_count": 89
        }
      ]
    },
    {
      "cell_type": "markdown",
      "source": [
        "**Новые признаки пользователей и товаров на основе матрицы транзакций**"
      ],
      "metadata": {
        "id": "7LMaUI66qr4Z"
      }
    },
    {
      "cell_type": "code",
      "source": [
        "def get_user_item_features(data_train_lvl_1):\n",
        "    # час совершения транзакции\n",
        "    X = data_train_lvl_1.copy()\n",
        "    X['hour'] = X['trans_time'] // 100\n",
        "    user_item_features = X.groupby(['user_id', 'item_id'])['hour'].median().reset_index()\n",
        "    user_item_features.columns = ['user_id', 'item_id', 'median_sales_hour']\n",
        "    \n",
        "    # день недели совершения транзакции\n",
        "    X['weekday'] = X['day'] % 7\n",
        "    df = X.groupby(['user_id', 'item_id'])['weekday'].median().reset_index()\n",
        "    df.columns = ['user_id', 'item_id', 'median_weekday']\n",
        "    user_item_features = user_item_features.merge(df, on=['user_id', 'item_id'])\n",
        "    \n",
        "    # cреднее кол-во дней между покупками\n",
        "    df = X.groupby('user_id')['day'].nunique().reset_index()\n",
        "    df['mean_visits_interval'] = (X.groupby('user_id')['day'].max() - X.groupby('user_id')['day'].min()) / df['day']\n",
        "    user_item_features = user_item_features.merge(df[['user_id', 'mean_visits_interval']], on=['user_id'])\n",
        "    \n",
        "    # средний чек корзины клиента\n",
        "    df = X.groupby(['user_id', 'basket_id'])['sales_value'].sum().reset_index()\n",
        "    df = df.groupby('user_id')['sales_value'].mean().reset_index()\n",
        "    df.columns = ['user_id', 'mean_check']\n",
        "    user_item_features = user_item_features.merge(df, on=['user_id'])\n",
        "    \n",
        "    # кол-во магазинов, в которых продавался товар\n",
        "    df = X.groupby(['item_id'])['store_id'].nunique().reset_index()\n",
        "    df.columns = ['item_id', 'n_stores']\n",
        "    user_item_features = user_item_features.merge(df, on=['item_id'])\n",
        "    \n",
        "    # кол-во уникальных товаров, купленных клиентом\n",
        "    df = X.groupby(['user_id'])['item_id'].nunique().reset_index()\n",
        "    df.columns = ['user_id', 'n_items']\n",
        "    user_item_features = user_item_features.merge(df, on=['user_id'])\n",
        "    \n",
        "    # кол-во транзакций клиента\n",
        "    df = X.groupby(['user_id'])['item_id'].count().reset_index()\n",
        "    df.columns = ['user_id', 'n_transactions']\n",
        "    user_item_features = user_item_features.merge(df, on=['user_id'])\n",
        "    \n",
        "    # mean / max / std кол-ва уникальных товаров в корзине клиента\n",
        "    df = X.groupby(['user_id', 'basket_id'])['item_id'].nunique().reset_index()\n",
        "    df1 = df.groupby('user_id')['item_id'].mean().reset_index()\n",
        "    df1.columns = ['user_id', 'mean_n_items_basket']\n",
        "    user_item_features = user_item_features.merge(df1, on=['user_id'])\n",
        "\n",
        "    df2 = df.groupby('user_id')['item_id'].max().reset_index()\n",
        "    df2.columns = ['user_id', 'max_n_items_basket']\n",
        "    user_item_features = user_item_features.merge(df2, on=['user_id'])\n",
        "\n",
        "    df3 = df.groupby('user_id')['item_id'].std().reset_index()\n",
        "    df3.columns = ['user_id', 'std_n_items_basket']\n",
        "    user_item_features = user_item_features.merge(df3, on=['user_id'])\n",
        "    \n",
        "    # mean / max / std кол-ва уникальных категорий в корзине клиента\n",
        "#     X = X.merge(item_features[['item_id', 'commodity_desc']], on=['item_id'])\n",
        "#     df = X.groupby(['user_id', 'basket_id'])['commodity_desc'].nunique().reset_index()\n",
        "#     df1 = df.groupby('user_id')['commodity_desc'].mean().reset_index()\n",
        "#     df1.columns = ['user_id', 'mean_n_item_categories_basket']\n",
        "#     user_item_features = user_item_features.merge(df1, on=['user_id'])\n",
        "\n",
        "#     df2 = df.groupby('user_id')['commodity_desc'].max().reset_index()\n",
        "#     df2.columns = ['user_id', 'max_n_item_categories_basket']\n",
        "#     user_item_features = user_item_features.merge(df2, on=['user_id'])\n",
        "\n",
        "#     df3 = df.groupby('user_id')['commodity_desc'].std().reset_index()\n",
        "#     df3.columns = ['user_id', 'std_n_item_categories_basket']\n",
        "#     user_item_features = user_item_features.merge(df3, on=['user_id'])\n",
        "    \n",
        "    # эмбеддинги товаров\n",
        "    recommender = MainRecommender(X)\n",
        "    df = recommender.model.item_factors\n",
        "    n_factors = recommender.model.factors\n",
        "    ind = list(recommender.id_to_itemid.values())\n",
        "    df = pd.DataFrame(df, index=ind).reset_index()\n",
        "    df.columns = ['item_id'] + ['factor_' + str(i + 1) for i in range(n_factors)]\n",
        "    user_item_features = user_item_features.merge(df, on=['item_id'])\n",
        "    \n",
        "    # эмбеддинги пользователей\n",
        "    df = recommender.model.user_factors\n",
        "    ind = list(recommender.id_to_userid.values())\n",
        "    df = pd.DataFrame(df, index=ind).reset_index()\n",
        "    df.columns = ['user_id'] + ['user_factor_' + str(i + 1) for i in range(n_factors)]\n",
        "    user_item_features = user_item_features.merge(df, on=['user_id'])\n",
        "    \n",
        "    return user_item_features"
      ],
      "metadata": {
        "id": "blynSwh3qy6P"
      },
      "execution_count": 82,
      "outputs": []
    },
    {
      "cell_type": "markdown",
      "source": [
        "# Recommeders"
      ],
      "metadata": {
        "id": "IPDG0hBDvRqK"
      }
    },
    {
      "cell_type": "code",
      "source": [
        "import pandas as pd\n",
        "import numpy as np\n",
        "\n",
        "# Для работы с матрицами\n",
        "from scipy.sparse import csr_matrix\n",
        "\n",
        "# Матричная факторизация\n",
        "from implicit.als import AlternatingLeastSquares\n",
        "from implicit.nearest_neighbours import ItemItemRecommender  # нужен для одного трюка\n",
        "from implicit.nearest_neighbours import bm25_weight, tfidf_weight\n",
        "\n",
        "\n",
        "class MainRecommender:\n",
        "    \"\"\"Рекоммендации, которые можно получить из ALS\n",
        "    \n",
        "    Input\n",
        "    -----\n",
        "    user_item_matrix: pd.DataFrame\n",
        "        Матрица взаимодействий user-item\n",
        "    \"\"\"\n",
        "    \n",
        "    def __init__(self, data, weighting=True):\n",
        "        \n",
        "        # Топ покупок каждого юзера\n",
        "        self.top_purchases = data.groupby(['user_id', 'item_id'])['quantity'].count().reset_index()\n",
        "        self.top_purchases.sort_values('quantity', ascending=False, inplace=True)\n",
        "        self.top_purchases = self.top_purchases[self.top_purchases['item_id'] != 999999]\n",
        "\n",
        "        # Топ покупок по всему датасету\n",
        "        self.overall_top_purchases = data.groupby('item_id')['quantity'].count().reset_index()\n",
        "        self.overall_top_purchases.sort_values('quantity', ascending=False, inplace=True)\n",
        "        self.overall_top_purchases = self.overall_top_purchases[self.overall_top_purchases['item_id'] != 999999]\n",
        "        self.overall_top_purchases = self.overall_top_purchases.item_id.tolist()\n",
        "\n",
        "        self.user_item_matrix = self.prepare_matrix(data)  # pd.DataFrame\n",
        "        self.id_to_itemid, self.id_to_userid, \\\n",
        "            self.itemid_to_id, self.userid_to_id = self.prepare_dicts(self.user_item_matrix)\n",
        "        \n",
        "        if weighting:\n",
        "            self.user_item_matrix = bm25_weight(self.user_item_matrix.T).T \n",
        "        \n",
        "        self.model = self.fit(self.user_item_matrix)\n",
        "        self.own_recommender = self.fit_own_recommender(self.user_item_matrix)\n",
        "     \n",
        "    @staticmethod\n",
        "    def prepare_matrix(data):\n",
        "        \n",
        "        user_item_matrix = pd.pivot_table(data, \n",
        "                                  index='user_id', columns='item_id', \n",
        "                                  values='quantity', # Можно пробоват ьдругие варианты\n",
        "                                  aggfunc='count', \n",
        "                                  fill_value=0\n",
        "                                 )\n",
        "        user_item_matrix = user_item_matrix.astype(float) # необходимый тип матрицы для implicit       \n",
        "        return user_item_matrix\n",
        "    \n",
        "    @staticmethod\n",
        "    def prepare_dicts(user_item_matrix):\n",
        "        \"\"\"Подготавливает вспомогательные словари\"\"\"\n",
        "        userids = user_item_matrix.index.values\n",
        "        itemids = user_item_matrix.columns.values\n",
        "\n",
        "        matrix_userids = np.arange(len(userids))\n",
        "        matrix_itemids = np.arange(len(itemids))\n",
        "\n",
        "        id_to_itemid = dict(zip(matrix_itemids, itemids))\n",
        "        id_to_userid = dict(zip(matrix_userids, userids))\n",
        "\n",
        "        itemid_to_id = dict(zip(itemids, matrix_itemids))\n",
        "        userid_to_id = dict(zip(userids, matrix_userids))\n",
        "        \n",
        "        return id_to_itemid, id_to_userid, itemid_to_id, userid_to_id\n",
        "     \n",
        "    @staticmethod\n",
        "    def fit_own_recommender(user_item_matrix):\n",
        "        \"\"\"Обучает модель, которая рекомендует товары, среди товаров, купленных юзером\"\"\"\n",
        "        own_recommender = ItemItemRecommender(K=1, num_threads=4)\n",
        "        own_recommender.fit(csr_matrix(user_item_matrix).T.tocsr())\n",
        "        \n",
        "        return own_recommender\n",
        "    \n",
        "    @staticmethod\n",
        "    def fit(user_item_matrix, n_factors=20, regularization=0.001, iterations=15, num_threads=4):\n",
        "        \"\"\"Обучает ALS\"\"\"\n",
        "        model = AlternatingLeastSquares(factors=n_factors, \n",
        "                                             regularization=regularization,\n",
        "                                             iterations=iterations,  \n",
        "                                             num_threads=num_threads)\n",
        "        model.fit(csr_matrix(user_item_matrix).T.tocsr())\n",
        "        \n",
        "        return model\n",
        "    \n",
        "    def _update_dict(self, user_id):\n",
        "        \"\"\"Если появился новыю user / item, то нужно обновить словари\"\"\"\n",
        "        if user_id not in self.userid_to_id.keys():\n",
        "\n",
        "            max_id = max(list(self.userid_to_id.values()))\n",
        "            max_id += 1\n",
        "\n",
        "            self.userid_to_id.update({user_id: max_id})\n",
        "            self.id_to_userid.update({max_id: user_id})                                    \n",
        "    def _get_rec(self, model, x):\n",
        "    \n",
        "        recs = model.similar_items(self.itemid_to_id[x], N=2)\n",
        "        top_rec = recs[1][0]\n",
        "        return self.id_to_itemid[top_rec]\n",
        "    \n",
        "    def _extend_with_top_popular(self, recommendations, N=5):\n",
        "        \"\"\"Если кол-во рекоммендаций < N, то дополняем их топ-популярными\"\"\"\n",
        "        if len(recommendations) < N:\n",
        "            recommendations.extend(self.overall_top_purchases[:N])\n",
        "            recommendations = recommendations[:N]\n",
        "\n",
        "        return recommendations                                                             \n",
        "\n",
        "    def _get_recommendations(self, user, model, N=5):\n",
        "        \"\"\"Рекомендации через стардартные библиотеки implicit\"\"\"\n",
        "        self._update_dict(user_id=user)\n",
        "        \n",
        "        recs = model.recommend(userid=self.userid_to_id[user],\n",
        "                                        user_items=csr_matrix(self.user_item_matrix).tocsr(),\n",
        "                                        N=N,\n",
        "                                        filter_already_liked_items=False,\n",
        "                                        filter_items=[self.itemid_to_id[999999]],\n",
        "                                        recalculate_user=True)\n",
        "        \n",
        "        res = [self.id_to_itemid[rec[0]] for rec in recs]\n",
        "\n",
        "        res = self._extend_with_top_popular(res, N=N)\n",
        "\n",
        "        assert len(res) == N, 'Количество рекомендаций != {}'.format(N)\n",
        "        return res\n",
        "\n",
        "    def get_als_recommendations(self, user, N=5):\n",
        "        \"\"\"Рекомендации через стандартные библиотеки implicit\"\"\"\n",
        "        self._update_dict(user_id=user)\n",
        "        return self._get_recommendations(user, model=self.model, N=N)\n",
        "\n",
        "    def get_own_recommendations(self, user, N=5):\n",
        "        \"\"\"Рекомендуем товары среди тех, которые юзер уже купил\"\"\"\n",
        "        self._update_dict(user_id=user)\n",
        "        return self._get_recommendations(user, model=self.own_recommender, N=N)                                              \n",
        "    def get_similar_items_recommendation(self, user, N=5):\n",
        "        \"\"\"Рекомендуем товары, похожие на топ-N купленных юзером товаров\"\"\"\n",
        "        popularity= self.data[self.data['user_id']==user]\n",
        "        popularity = popularity.groupby(['item_id'])['quantity'].count().reset_index()\n",
        "        popularity.sort_values('quantity', ascending=False, inplace=True)\n",
        "        popularity = popularity.head(N)   \n",
        "        popularity['similar_recommendation'] = popularity['item_id'].apply(lambda x: _get_rec(model, x))\n",
        "        res = popularity['similar_recommendation'].to_list()\n",
        "    \n",
        "        assert len(res) == N, 'Количество рекомендаций != {}'.format(N)\n",
        "        return res\n",
        "    \n",
        "    def get_similar_users_recommendation(self, user, N=5):\n",
        "        \"\"\"Рекомендуем топ-N товаров, среди купленных похожими юзерами\"\"\"\n",
        "        similar_users = self.model.similar_users(self.userid_to_id[user], N+1)\n",
        "    \n",
        "        own = ItemItemRecommender(K=1, num_threads=4) # K - кол-во билжайших соседей\n",
        "        own.fit(csr_matrix(self.user_item_matrix).T.tocsr(), show_progress=False)\n",
        "    \n",
        "        res = []\n",
        "        #первый пользователь - это он сам    \n",
        "        for i in range(len(similar_users)):\n",
        "            if i==0:\n",
        "                continue\n",
        "            sparse_user_item = csr_matrix(self.user_item_matrix).tocsr()\n",
        "            rec = _get_recommendations(i, own, sparse_user_item, N=1)\n",
        "            res.append(rec[0])\n",
        "\n",
        "        assert len(res) == N, 'Количество рекомендаций != {}'.format(N)\n",
        "        return res"
      ],
      "metadata": {
        "id": "I9boLCXOFhYS"
      },
      "execution_count": 90,
      "outputs": []
    },
    {
      "cell_type": "code",
      "source": [
        "user_item_features = get_user_item_features(data_train_lvl_1)\n",
        "user_item_features.head(2)"
      ],
      "metadata": {
        "id": "WHmvvt11qzvH"
      },
      "execution_count": null,
      "outputs": []
    },
    {
      "cell_type": "markdown",
      "source": [
        "# Формирование признаков для обучения модели второго уровня"
      ],
      "metadata": {
        "id": "Wc6r1GDgq5JO"
      }
    },
    {
      "cell_type": "code",
      "source": [
        "def get_candidates(data_train_lvl_1, data_train_lvl_2, N, add_to_lvl_2):\n",
        "    recommender = MainRecommender(data_train_lvl_1)\n",
        "\n",
        "    users_lvl_1 = data_train_lvl_1['user_id'].unique()\n",
        "    users_lvl_2 = data_train_lvl_2['user_id'].unique().tolist()\n",
        "    if add_to_lvl_2:\n",
        "        users_lvl_2 += add_to_lvl_2\n",
        "\n",
        "    current_users = list(set(users_lvl_2) & set(users_lvl_1))    \n",
        "    new_users = list(set(users_lvl_2) - set(users_lvl_1))\n",
        "\n",
        "    df = pd.DataFrame(users_lvl_2, columns=['user_id'])\n",
        "    cond_1 = df['user_id'].isin(current_users)\n",
        "    df.loc[cond_1, 'candidates'] = df.loc[cond_1, 'user_id'].apply(\n",
        "        lambda x: recommender.get_own_recommendations(x, N))\n",
        "\n",
        "    if new_users:\n",
        "        cond_2 = df['user_id'].isin(new_users)\n",
        "        df.loc[cond_2, 'candidates'] = df.loc[cond_2, 'user_id'].apply(\n",
        "            lambda x: recommender.overall_top_purchases[:N])\n",
        "        \n",
        "    return df\n",
        "\n",
        "\n",
        "\n",
        "def get_targets_lvl_2(data_train_lvl_1, data_train_lvl_2, user_item_features, N, add_to_lvl_2=None):\n",
        "    \n",
        "    users_lvl_2 = get_candidates(data_train_lvl_1, data_train_lvl_2, N, add_to_lvl_2)\n",
        "    \n",
        "    df = pd.DataFrame({'user_id': users_lvl_2['user_id'].values.repeat(N),\n",
        "                       'item_id': np.concatenate(users_lvl_2['candidates'].values)})\n",
        "\n",
        "    targets_lvl_2 = data_train_lvl_2[['user_id', 'item_id']].copy()\n",
        "    targets_lvl_2['target'] = 1  # тут только покупки \n",
        "\n",
        "    targets_lvl_2 = df.merge(targets_lvl_2, on=['user_id', 'item_id'], how='left')\n",
        "    targets_lvl_2['target'].fillna(0, inplace= True)\n",
        "    \n",
        "    #targets_lvl_2 = targets_lvl_2.merge(item_features, on='item_id', how='left')\n",
        "    #targets_lvl_2 = targets_lvl_2.merge(user_features, on='user_id', how='left')\n",
        "    targets_lvl_2 = targets_lvl_2.merge(\n",
        "        user_item_features, on=['user_id', 'item_id'], how='left')\n",
        "    \n",
        "    return targets_lvl_2"
      ],
      "metadata": {
        "id": "NfH2q9ZYrARJ"
      },
      "execution_count": 92,
      "outputs": []
    },
    {
      "cell_type": "code",
      "source": [
        "N = 500\n",
        "targets_lvl_2 = get_targets_lvl_2(data_train_lvl_1, data_train_lvl_2, user_item_features, N, add_to_lvl_2)\n",
        "\n",
        "print(f'число пользователей: {targets_lvl_2.user_id.nunique()}')\n",
        "print(f'среднее число покупок: {round(targets_lvl_2[\"target\"].mean(), 4)}')\n",
        "\n",
        "targets_lvl_2.head(2)"
      ],
      "metadata": {
        "colab": {
          "base_uri": "https://localhost:8080/",
          "height": 236
        },
        "id": "AGdEYLA9rFRJ",
        "outputId": "23667fa9-ea6f-44cd-a985-56dda85b0af0"
      },
      "execution_count": 93,
      "outputs": [
        {
          "output_type": "error",
          "ename": "NameError",
          "evalue": "ignored",
          "traceback": [
            "\u001b[0;31m---------------------------------------------------------------------------\u001b[0m",
            "\u001b[0;31mNameError\u001b[0m                                 Traceback (most recent call last)",
            "\u001b[0;32m<ipython-input-93-8454c6d3cd7d>\u001b[0m in \u001b[0;36m<module>\u001b[0;34m\u001b[0m\n\u001b[1;32m      1\u001b[0m \u001b[0mN\u001b[0m \u001b[0;34m=\u001b[0m \u001b[0;36m500\u001b[0m\u001b[0;34m\u001b[0m\u001b[0;34m\u001b[0m\u001b[0m\n\u001b[0;32m----> 2\u001b[0;31m \u001b[0mtargets_lvl_2\u001b[0m \u001b[0;34m=\u001b[0m \u001b[0mget_targets_lvl_2\u001b[0m\u001b[0;34m(\u001b[0m\u001b[0mdata_train_lvl_1\u001b[0m\u001b[0;34m,\u001b[0m \u001b[0mdata_train_lvl_2\u001b[0m\u001b[0;34m,\u001b[0m \u001b[0muser_item_features\u001b[0m\u001b[0;34m,\u001b[0m \u001b[0mN\u001b[0m\u001b[0;34m,\u001b[0m \u001b[0madd_to_lvl_2\u001b[0m\u001b[0;34m)\u001b[0m\u001b[0;34m\u001b[0m\u001b[0;34m\u001b[0m\u001b[0m\n\u001b[0m\u001b[1;32m      3\u001b[0m \u001b[0;34m\u001b[0m\u001b[0m\n\u001b[1;32m      4\u001b[0m \u001b[0mprint\u001b[0m\u001b[0;34m(\u001b[0m\u001b[0;34mf'число пользователей: {targets_lvl_2.user_id.nunique()}'\u001b[0m\u001b[0;34m)\u001b[0m\u001b[0;34m\u001b[0m\u001b[0;34m\u001b[0m\u001b[0m\n\u001b[1;32m      5\u001b[0m \u001b[0mprint\u001b[0m\u001b[0;34m(\u001b[0m\u001b[0;34mf'среднее число покупок: {round(targets_lvl_2[\"target\"].mean(), 4)}'\u001b[0m\u001b[0;34m)\u001b[0m\u001b[0;34m\u001b[0m\u001b[0;34m\u001b[0m\u001b[0m\n",
            "\u001b[0;31mNameError\u001b[0m: name 'user_item_features' is not defined"
          ]
        }
      ]
    },
    {
      "cell_type": "markdown",
      "source": [
        "# Отбор признаков"
      ],
      "metadata": {
        "id": "-58LtegYrRtD"
      }
    },
    {
      "cell_type": "code",
      "source": [
        "SELECTED_FEATURES_NAMES = ['brand', 'manufacturer_freq', 'department_freq', 'commodity_desc_freq',\n",
        "                           'sub_commodity_desc_freq', 'curr_size_of_product_freq',\n",
        "                           'commodity_category', 'age_desc', 'marital_status_code', 'income_desc',\n",
        "                           'homeowner_desc', 'hh_comp_desc'\n",
        "                           \n",
        "                             \n",
        "                           'manufacturer',\n",
        "                           \n",
        "                           'median_sales_hour', 'median_weekday', #'mean_visits_interval',\n",
        "                           'mean_check', \n",
        "                           'n_stores', 'n_items', 'n_transactions', \n",
        "                           'mean_n_items_basket', 'max_n_items_basket', 'std_n_items_basket',\n",
        "                           'mean_n_item_categories_basket', 'max_n_item_categories_basket', \n",
        "                           'std_n_item_categories_basket',\n",
        "                           'factor_1', 'factor_2', 'factor_3', 'factor_4', 'factor_5',\n",
        "                           'factor_6', 'factor_7', 'factor_8', 'factor_9', 'factor_10',\n",
        "                           'factor_11', 'factor_12', 'factor_13', 'factor_14', 'factor_15',\n",
        "                           'factor_16', 'factor_17', 'factor_18', 'factor_19', 'factor_20',\n",
        "                           \n",
        "                           'user_factor_1', 'user_factor_2', 'user_factor_3', 'user_factor_4',\n",
        "                           'user_factor_5', 'user_factor_6', 'user_factor_7', 'user_factor_8',\n",
        "                           'user_factor_9', 'user_factor_10', 'user_factor_11', 'user_factor_12',\n",
        "                           'user_factor_13', 'user_factor_14', 'user_factor_15', 'user_factor_16',\n",
        "                           'user_factor_17', 'user_factor_18', 'user_factor_19', 'user_factor_20',\n",
        "                          ]\n",
        "categorical = ['marital_status_code','homeowner_desc', 'hh_comp_desc', 'manufacturer','commodity_category']"
      ],
      "metadata": {
        "id": "SxMznchlrV-L"
      },
      "execution_count": null,
      "outputs": []
    },
    {
      "cell_type": "markdown",
      "source": [
        "# Модели второго уровня"
      ],
      "metadata": {
        "id": "SRlAql4IrYRf"
      }
    },
    {
      "cell_type": "code",
      "source": [
        "SELECTED_FEATURES_NAMES_cb = [i for i in SELECTED_FEATURES_NAMES if not i in categorical]"
      ],
      "metadata": {
        "id": "W_2wW8QFrblz"
      },
      "execution_count": null,
      "outputs": []
    },
    {
      "cell_type": "code",
      "source": [
        "def run_model_cb(targets_lvl_2):    \n",
        "    X_train, X_valid, y_train, y_valid = train_test_split(targets_lvl_2[SELECTED_FEATURES_NAMES_cb].fillna(0),\n",
        "                                                          targets_lvl_2[['target']],\n",
        "                                                          test_size=0.2, random_state=16,\n",
        "                                                          stratify=targets_lvl_2[['target']])\n",
        "\n",
        "    dtrain = Pool(data=X_train, label=y_train) #, cat_features=categorical\n",
        "    dvalid = Pool(data=X_valid, label=y_valid) #, cat_features=categorical\n",
        "\n",
        "    params_cb = {\"n_estimators\":5000,\n",
        "                 #\"learning_rate\": 0.1,\n",
        "                 \"loss_function\": \"Logloss\",\n",
        "                 \"eval_metric\": \"AUC\",\n",
        "                 \"task_type\": \"CPU\",\n",
        "                 \"max_bin\": 30,\n",
        "                 \"early_stopping_rounds\": 30,\n",
        "                 \"verbose\": 1000,\n",
        "                 #\"max_depth\": 10,\n",
        "                 \"l2_leaf_reg\": 80,\n",
        "                 \"thread_count\": 6,\n",
        "                 \"random_seed\": 51} \n",
        "\n",
        "    model_cb = CatBoostClassifier(**params_cb)\n",
        "    model_cb.fit(dtrain, eval_set=[dvalid])\n",
        "\n",
        "    \n",
        "    return model_cb"
      ],
      "metadata": {
        "id": "0feX3tnErekE"
      },
      "execution_count": null,
      "outputs": []
    },
    {
      "cell_type": "code",
      "source": [
        "model_cb = run_model_cb(targets_lvl_2)\n",
        "# bestTest = 0.9001035431\n",
        "# bestIteration = 4999"
      ],
      "metadata": {
        "id": "wRXgLjXfrgxc"
      },
      "execution_count": null,
      "outputs": []
    },
    {
      "cell_type": "code",
      "source": [
        "print(model_cb.get_all_params())"
      ],
      "metadata": {
        "id": "rrtKzixyrilY"
      },
      "execution_count": null,
      "outputs": []
    },
    {
      "cell_type": "code",
      "source": [
        "def run_model_lgb(targets_lvl_2):\n",
        "    X_train, X_valid, y_train, y_valid = train_test_split(targets_lvl_2[SELECTED_FEATURES_NAMES].fillna(0),\n",
        "                                                          targets_lvl_2[['target']],\n",
        "                                                          test_size=0.2, random_state=16,\n",
        "                                                          stratify=targets_lvl_2[['target']])\n",
        "\n",
        "    dtrain = lgb.Dataset(X_train, y_train, categorical_feature=categorical)\n",
        "    dvalid = lgb.Dataset(X_valid, y_valid, categorical_feature=categorical)\n",
        "\n",
        "    params_lgb = {\n",
        "                  #\"boosting_type\": \"gbdt\",\n",
        "                  \"objective\": \"binary\", \n",
        "                  \"metric\": \"auc\",\n",
        "                  \"num_boost_round\": 10000, #Number of boosting iterations. default=100\n",
        "                  #\"learning_rate\": 0.1,\n",
        "                  #\"class_weight\": 'balanced', #[Warning] Unknown parameter: class_weight\n",
        "                  #\"max_depth\": 10,\n",
        "                  #\"n_estimators\": 5000,\n",
        "                  \"n_jobs\": 8,\n",
        "                  \"force_row_wise\": True, # to remove the overhead\n",
        "                  \"seed\": 24} \n",
        "\n",
        "    model_lgb = lgb.train(params=params_lgb,\n",
        "                          train_set=dtrain,  \n",
        "                          valid_sets=[dtrain, dvalid],\n",
        "                          categorical_feature=categorical,\n",
        "                          verbose_eval=1000,\n",
        "                          early_stopping_rounds=30)\n",
        "    \n",
        "    return model_lgb"
      ],
      "metadata": {
        "id": "PTRUUAburlfs"
      },
      "execution_count": null,
      "outputs": []
    },
    {
      "cell_type": "code",
      "source": [
        "model_lgb = run_model_lgb(targets_lvl_2)\n",
        "[1322]\ttraining's auc: 0.954272\tvalid_1's auc: 0.912695"
      ],
      "metadata": {
        "id": "06bz0EQ4roHK"
      },
      "execution_count": null,
      "outputs": []
    },
    {
      "cell_type": "markdown",
      "source": [
        "# Генерация прогнозов"
      ],
      "metadata": {
        "id": "Xo1EPHICrqve"
      }
    },
    {
      "cell_type": "code",
      "source": [
        "predictions_lgb_train = model_lgb.predict(targets_lvl_2[SELECTED_FEATURES_NAMES].fillna(0))\n",
        "predictions_cb_train = model_cb.predict_proba(targets_lvl_2[SELECTED_FEATURES_NAMES_cb].fillna(0))[:, 1]"
      ],
      "metadata": {
        "id": "v4Nk1nDdruS2"
      },
      "execution_count": null,
      "outputs": []
    },
    {
      "cell_type": "markdown",
      "source": [
        "**Объединение прогнозов**"
      ],
      "metadata": {
        "id": "XazybYwWrwZt"
      }
    },
    {
      "cell_type": "code",
      "source": [
        "preds_train = pd.DataFrame(zip(predictions_lgb_train, \n",
        "                               predictions_cb_train),\n",
        "                           columns=['lgb', 'cb']).mean(axis=1).values\n",
        "roc_auc_score(targets_lvl_2['target'], preds_train)\n",
        "# 0.9384561600781899"
      ],
      "metadata": {
        "id": "GRyCERr_r0H7"
      },
      "execution_count": null,
      "outputs": []
    },
    {
      "cell_type": "markdown",
      "source": [
        "# Обработка прогнозов"
      ],
      "metadata": {
        "id": "h8eeXMiFr2JU"
      }
    },
    {
      "cell_type": "code",
      "source": [
        "def get_predictions(targets_lvl_2, raw_predictions, prefix='lgb'): \n",
        "    df = targets_lvl_2[['user_id', 'item_id']]\n",
        "    df['predictions'] = raw_predictions\n",
        "\n",
        "    df = df.groupby(['user_id', 'item_id'])['predictions'].median().reset_index()\n",
        "    df = df.sort_values(['predictions'], ascending=False).groupby(['user_id']).head(5)\n",
        "\n",
        "    df = df.groupby('user_id')['item_id'].unique().reset_index()\n",
        "    df.columns = ['user_id', prefix + '_recommendations']\n",
        "    \n",
        "    return df\n",
        "\n",
        "\n",
        "def get_results(data_val_lvl_2, targets_lvl_2, preds_lgb, preds_cb, combined_preds):\n",
        "    result = data_val_lvl_2.groupby('user_id')['item_id'].unique().reset_index()\n",
        "    result.columns=['user_id', 'actual']\n",
        "    \n",
        "    prefixes = ['lgb', 'cb', 'cb_lgb']\n",
        "    predictions = [preds_lgb, preds_cb, combined_preds]\n",
        "    \n",
        "    for i, preds in enumerate(predictions):\n",
        "        df = get_predictions(targets_lvl_2, preds, prefixes[i])\n",
        "        result = result.merge(df, on='user_id', how='left')\n",
        "\n",
        "    return result"
      ],
      "metadata": {
        "id": "OxSDyp4Ur6HY"
      },
      "execution_count": null,
      "outputs": []
    },
    {
      "cell_type": "code",
      "source": [
        "result_lvl_2 = get_results(data_val_lvl_2, targets_lvl_2, \n",
        "                           predictions_lgb_train,\n",
        "                           predictions_cb_train, \n",
        "                           preds_train)\n",
        "result_lvl_2.head(2)"
      ],
      "metadata": {
        "id": "qsKC663xr74r"
      },
      "execution_count": null,
      "outputs": []
    },
    {
      "cell_type": "markdown",
      "source": [
        "# Метрики качества"
      ],
      "metadata": {
        "id": "fV6HgU3pr91z"
      }
    },
    {
      "cell_type": "markdown",
      "source": [
        "## **LightGBM**"
      ],
      "metadata": {
        "id": "-uSD1cVxsBv8"
      }
    },
    {
      "cell_type": "code",
      "source": [
        "result_lvl_2.apply(lambda row: precision_at_k(row['lgb_recommendations'], row['actual'], 5), axis=1).mean()\n",
        "# 0.29441723800195807"
      ],
      "metadata": {
        "id": "TMZdtyZ-sFvo"
      },
      "execution_count": null,
      "outputs": []
    },
    {
      "cell_type": "markdown",
      "source": [
        "## **CatBoost**"
      ],
      "metadata": {
        "id": "16yDTI9SsNsB"
      }
    },
    {
      "cell_type": "code",
      "source": [
        "result_lvl_2.apply(lambda row: precision_at_k(row['cb_recommendations'], row['actual'], 5), axis=1).mean()\n",
        "# 0.2863858961802145"
      ],
      "metadata": {
        "id": "EGTmRIxasTAm"
      },
      "execution_count": null,
      "outputs": []
    },
    {
      "cell_type": "markdown",
      "source": [
        "## **Ensemble**"
      ],
      "metadata": {
        "id": "bJUCjP8fsR9D"
      }
    },
    {
      "cell_type": "code",
      "source": [
        "result_lvl_2.apply(lambda row: precision_at_k(row['cb_lgb_recommendations'], row['actual'], 5), axis=1).mean()\n",
        "# 0.30499510284035214"
      ],
      "metadata": {
        "id": "BO0GlWc3sSQP"
      },
      "execution_count": null,
      "outputs": []
    },
    {
      "cell_type": "markdown",
      "source": [
        "# Построение финальных прогнозов"
      ],
      "metadata": {
        "id": "W8qRFGyHsb_M"
      }
    },
    {
      "cell_type": "markdown",
      "source": [
        "на всей обучающей выборке"
      ],
      "metadata": {
        "id": "4dxdYVZMsf6k"
      }
    },
    {
      "cell_type": "code",
      "source": [
        "validation_weeks = 6\n",
        "data_train = data[data['week_no'] < data['week_no'].max() - validation_weeks]\n",
        "data_valid = data[data['week_no'] >= data['week_no'].max() - validation_weeks]"
      ],
      "metadata": {
        "id": "eCW4-_w1sjgD"
      },
      "execution_count": null,
      "outputs": []
    },
    {
      "cell_type": "code",
      "source": [
        "test = pd.read_csv('../../data/rec_sys/predictions_basic.csv')"
      ],
      "metadata": {
        "id": "LjrKxBp3smCG"
      },
      "execution_count": null,
      "outputs": []
    },
    {
      "cell_type": "code",
      "source": [
        "users_lvl_1 = data_train.user_id.unique()\n",
        "users_lvl_2 = data_valid.user_id.unique()\n",
        "users_lvl_3 = test.user_id.unique()\n",
        "\n",
        "new_users_lvl_2 = list(set(users_lvl_2) - set(users_lvl_1))\n",
        "new_users_lvl_3 = list(set(users_lvl_3) - (set(users_lvl_1) | set(users_lvl_2)))\n",
        "\n",
        "add_to_lvl_2 = list(set(users_lvl_3) - (set(users_lvl_2)))\n",
        "\n",
        "new_users_lvl_2, new_users_lvl_3, len(add_to_lvl_2)"
      ],
      "metadata": {
        "id": "Ra7AuYxvsqve"
      },
      "execution_count": null,
      "outputs": []
    },
    {
      "cell_type": "code",
      "source": [
        "from src.metrics import precision_at_k, recall_at_k\n",
        "from src.utils import prefilter_items\n",
        "from src.recommenders import MainRecommender"
      ],
      "metadata": {
        "id": "-b2tS4HQssxB"
      },
      "execution_count": null,
      "outputs": []
    },
    {
      "cell_type": "code",
      "source": [
        "import os\n",
        "os.chdir('C:/Users/Alex/YandexDisk/it/gb/rec_sys/src')\n",
        "%run utils.py"
      ],
      "metadata": {
        "id": "vzXMcaB5sw4D"
      },
      "execution_count": null,
      "outputs": []
    },
    {
      "cell_type": "code",
      "source": [
        "n_items_before = data['item_id'].nunique()\n",
        "data_train = prefilter_items(data_train, item_features=item_features, take_n_popular=5000)\n",
        "n_items_after = data_train['item_id'].nunique()\n",
        "print('Decreased # items from {} to {}'.format(n_items_before, n_items_after))"
      ],
      "metadata": {
        "id": "PvKp_Qn2sy90"
      },
      "execution_count": null,
      "outputs": []
    },
    {
      "cell_type": "code",
      "source": [
        "user_item_features = get_user_item_features(data_train)\n",
        "user_item_features.head(2)"
      ],
      "metadata": {
        "id": "f5Ax2qtzs00s"
      },
      "execution_count": null,
      "outputs": []
    },
    {
      "cell_type": "code",
      "source": [
        "import os\n",
        "os.chdir('C:/Users/Alex/YandexDisk/it/gb/rec_sys/src')\n",
        "%run recommenders.py"
      ],
      "metadata": {
        "id": "VRVRgXtWs3PK"
      },
      "execution_count": null,
      "outputs": []
    },
    {
      "cell_type": "code",
      "source": [
        "targets_test = get_targets_lvl_2(data_train, data_valid, user_item_features, N, add_to_lvl_2)\n",
        "\n",
        "print(f'число пользователей: {targets_test.user_id.nunique()}')\n",
        "print(f'среднее число покупок: {round(targets_test[\"target\"].mean(), 4)}')\n",
        "\n",
        "targets_test.head(2)"
      ],
      "metadata": {
        "id": "fhWaQ_7js5TU"
      },
      "execution_count": null,
      "outputs": []
    },
    {
      "cell_type": "code",
      "source": [
        "SELECTED_FEATURES_NAMES = ['median_sales_hour', 'median_weekday', #'mean_visits_interval',\n",
        "                           'mean_check', \n",
        "                           'n_stores', 'n_items', 'n_transactions', \n",
        "                           'mean_n_items_basket', 'max_n_items_basket', \n",
        "                           \n",
        "                          \n",
        "                           'factor_1', 'factor_2', 'factor_3', 'factor_4', 'factor_5',\n",
        "                           'factor_6', 'factor_7', 'factor_8', 'factor_9', 'factor_10',\n",
        "                           'factor_11', 'factor_12', 'factor_13', 'factor_14', 'factor_15',\n",
        "                           'factor_16', 'factor_17', 'factor_18', 'factor_19', 'factor_20',\n",
        "                           \n",
        "                           'user_factor_1', 'user_factor_2', 'user_factor_3', 'user_factor_4',\n",
        "                           'user_factor_5', 'user_factor_6', 'user_factor_7', 'user_factor_8',\n",
        "                           'user_factor_9', 'user_factor_10', 'user_factor_11', 'user_factor_12',\n",
        "                           'user_factor_13', 'user_factor_14', 'user_factor_15', 'user_factor_16',\n",
        "                           'user_factor_17', 'user_factor_18', 'user_factor_19', 'user_factor_20',\n",
        "                          ]\n",
        "categorical = []"
      ],
      "metadata": {
        "id": "Zi2V_sVKs77-"
      },
      "execution_count": null,
      "outputs": []
    },
    {
      "cell_type": "markdown",
      "source": [
        "## **Генерация прогнозов**"
      ],
      "metadata": {
        "id": "YrJJ1WEAs-DW"
      }
    },
    {
      "cell_type": "code",
      "source": [
        "model_lgb = run_model_lgb(targets_test)\n",
        "# Early stopping, best iteration is:\n",
        "# [1558]\ttraining's auc: 0.900737\tvalid_1's auc: 0.87275"
      ],
      "metadata": {
        "id": "XXcHlQ2ltDnG"
      },
      "execution_count": null,
      "outputs": []
    },
    {
      "cell_type": "code",
      "source": [
        "SELECTED_FEATURES_NAMES_cb = [i for i in SELECTED_FEATURES_NAMES if not i in categorical]"
      ],
      "metadata": {
        "id": "AidToSDZtFhe"
      },
      "execution_count": null,
      "outputs": []
    },
    {
      "cell_type": "code",
      "source": [
        "model_cb = run_model_cb(targets_test)\n",
        "# Stopped by overfitting detector  (30 iterations wait)\n",
        "# bestTest = 0.8620786343\n",
        "# bestIteration = 3899"
      ],
      "metadata": {
        "id": "NLSfGMoDtHid"
      },
      "execution_count": null,
      "outputs": []
    },
    {
      "cell_type": "code",
      "source": [
        "predictions_lgb_test = model_lgb.predict(targets_test[SELECTED_FEATURES_NAMES].fillna(0))\n",
        "predictions_cb_test = model_cb.predict_proba(targets_test[SELECTED_FEATURES_NAMES_cb].fillna(0))[:, 1]"
      ],
      "metadata": {
        "id": "KYHqwzCrtJ4U"
      },
      "execution_count": null,
      "outputs": []
    },
    {
      "cell_type": "markdown",
      "source": [
        "## **Объединение прогнозов**"
      ],
      "metadata": {
        "id": "SBxi4VvZtLxY"
      }
    },
    {
      "cell_type": "code",
      "source": [
        "preds_test = pd.DataFrame(zip(predictions_lgb_test, predictions_cb_test),columns=['lgb', 'cb']).mean(axis=1).values\n",
        "roc_auc_score(targets_test['target'], preds_test)\n",
        "# 0.8887098749469134"
      ],
      "metadata": {
        "id": "V4TL3JirtPl2"
      },
      "execution_count": null,
      "outputs": []
    },
    {
      "cell_type": "code",
      "source": [
        "test.head(2)"
      ],
      "metadata": {
        "id": "tzj3amUxtRm5"
      },
      "execution_count": null,
      "outputs": []
    },
    {
      "cell_type": "code",
      "source": [
        "targets_test.head(2)"
      ],
      "metadata": {
        "id": "vFh4IJn2tTMW"
      },
      "execution_count": null,
      "outputs": []
    },
    {
      "cell_type": "code",
      "source": [
        "def get_results_1(data_val_lvl_2, targets_lvl_2, preds_lgb, preds_cb, combined_preds):\n",
        "    result = data_val_lvl_2.groupby('user_id')['actual'].unique().reset_index()\n",
        "    result.columns=['user_id', 'actual']\n",
        "    \n",
        "    prefixes = ['lgb', 'cb', 'cb_lgb']\n",
        "    predictions = [preds_lgb, preds_cb, combined_preds]\n",
        "    \n",
        "    for i, preds in enumerate(predictions):\n",
        "        df = get_predictions(targets_lvl_2, preds, prefixes[i])\n",
        "        result = result.merge(df, on='user_id', how='left')\n",
        "\n",
        "    return result"
      ],
      "metadata": {
        "id": "Y3kyWtGPtU8L"
      },
      "execution_count": null,
      "outputs": []
    },
    {
      "cell_type": "code",
      "source": [
        "result_test = get_results_1(test, targets_test, \n",
        "                           predictions_lgb_test,\n",
        "                           predictions_cb_test, \n",
        "                           preds_test)\n",
        "result_test.head(2)"
      ],
      "metadata": {
        "id": "LFP32_GAtWrM"
      },
      "execution_count": null,
      "outputs": []
    },
    {
      "cell_type": "markdown",
      "source": [
        "### **LightGBM**"
      ],
      "metadata": {
        "id": "O8-Q8rb0tdPs"
      }
    },
    {
      "cell_type": "code",
      "source": [
        "result_test.apply(lambda row: precision_at_k(row['lgb_recommendations'], row['actual'], 5), axis=1).mean()\n",
        "# 0.3131034482758621"
      ],
      "metadata": {
        "id": "iLsf48xbti_7"
      },
      "execution_count": null,
      "outputs": []
    },
    {
      "cell_type": "markdown",
      "source": [
        "### **CatBooost**"
      ],
      "metadata": {
        "id": "Fer414f4tndm"
      }
    },
    {
      "cell_type": "code",
      "source": [
        "result_test.apply(lambda row: precision_at_k(row['cb_recommendations'], row['actual'], 5), axis=1).mean()\n",
        "# 0.33389920424403186"
      ],
      "metadata": {
        "id": "z1avFdkEtsI0"
      },
      "execution_count": null,
      "outputs": []
    },
    {
      "cell_type": "markdown",
      "source": [
        "### **Ensemble**"
      ],
      "metadata": {
        "id": "fn4slE67tv-7"
      }
    },
    {
      "cell_type": "code",
      "source": [
        "result_test.apply(lambda row: precision_at_k(row['cb_lgb_recommendations'], row['actual'], 5), axis=1).mean()\n",
        "# 0.3335809018567639"
      ],
      "metadata": {
        "id": "i5Xc0t2otzV5"
      },
      "execution_count": null,
      "outputs": []
    },
    {
      "cell_type": "markdown",
      "source": [
        "# Сохранение результатов"
      ],
      "metadata": {
        "id": "iMhyJM6Ft1na"
      }
    },
    {
      "cell_type": "code",
      "source": [
        "df = result_test[['user_id', 'cb_lgb_recommendations']].copy()\n",
        "df.to_csv('../predictions_2.csv', index=False)\n",
        "df.head(2)"
      ],
      "metadata": {
        "id": "FksmQsqtt5HO"
      },
      "execution_count": null,
      "outputs": []
    }
  ]
}