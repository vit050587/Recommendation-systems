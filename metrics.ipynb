{
  "nbformat": 4,
  "nbformat_minor": 0,
  "metadata": {
    "colab": {
      "provenance": [],
      "authorship_tag": "ABX9TyOd98r8NjI7IjlntETB0lS/",
      "include_colab_link": true
    },
    "kernelspec": {
      "name": "python3",
      "display_name": "Python 3"
    },
    "language_info": {
      "name": "python"
    }
  },
  "cells": [
    {
      "cell_type": "markdown",
      "metadata": {
        "id": "view-in-github",
        "colab_type": "text"
      },
      "source": [
        "<a href=\"https://colab.research.google.com/github/vit050587/Recommendation-systems/blob/master/metrics.ipynb\" target=\"_parent\"><img src=\"https://colab.research.google.com/assets/colab-badge.svg\" alt=\"Open In Colab\"/></a>"
      ]
    },
    {
      "cell_type": "code",
      "execution_count": null,
      "metadata": {
        "id": "KMsOJ0vpWxsr"
      },
      "outputs": [],
      "source": [
        "\"\"\"\n",
        "Metrics\n",
        "\"\"\"\n",
        "import numpy as np\n",
        "\n",
        "def hit_rate(recommended_list, bought_list):\n",
        "    bought_list = np.array(bought_list)\n",
        "    recommended_list = np.array(recommended_list)\n",
        "    flags = np.isin(bought_list, recommended_list)\n",
        "    return (flags.sum() > 0) * 1\n",
        "\n",
        "def hit_rate_at_k(recommended_list, bought_list, k=5):\n",
        "    return hit_rate(recommended_list[:k], bought_list)\n",
        "\n",
        "def precision(recommended_list, bought_list):\n",
        "    bought_list = np.array(bought_list)\n",
        "    recommended_list = np.array(recommended_list)\n",
        "    flags = np.isin(bought_list, recommended_list)\n",
        "    return flags.sum() / len(recommended_list)\n",
        "\n",
        "def precision_at_k(recommended_list, bought_list, k=5):\n",
        "    return precision(recommended_list[:k], bought_list)\n",
        "\n",
        "def money_precision_at_k(recommended_list, bought_list, prices_recommended, k=5):\n",
        "    recommended_list = np.array(recommended_list)[:k]\n",
        "    prices_recommended = np.array(prices_recommended)[:k]\n",
        "    flags = np.isin(recommended_list, bought_list)\n",
        "    return np.dot(flags, prices_recommended).sum() / prices_recommended.sum()\n",
        "\n",
        "def recall(recommended_list, bought_list):\n",
        "    bought_list = np.array(bought_list)\n",
        "    recommended_list = np.array(recommended_list)\n",
        "    flags = np.isin(bought_list, recommended_list)\n",
        "    return flags.sum() / len(bought_list)\n",
        "\n",
        "\n",
        "def recall_at_k(recommended_list, bought_list, k=5):\n",
        "    return recall(recommended_list[:k], bought_list)\n",
        "\n",
        "\n",
        "def money_recall_at_k(recommended_list, bought_list, prices_recommended, prices_bought, k=5):\n",
        "    bought_list = np.array(bought_list)\n",
        "    recommended_list = np.array(recommended_list)[:k]\n",
        "    prices_recommended = np.array(prices_recommended)[:k]\n",
        "    prices_bought = np.array(prices_bought)\n",
        "    flags = np.isin(recommended_list, bought_list)\n",
        "    return np.dot(flags, prices_recommended).sum() / prices_bought.sum()\n",
        "\n",
        "\n",
        "def ap_k(recommended_list, bought_list, k=5):\n",
        "    bought_list = np.array(bought_list)\n",
        "    recommended_list = np.array(recommended_list)\n",
        "    recommended_list = recommended_list[recommended_list <= k]\n",
        "\n",
        "    relevant_indexes = np.nonzero(np.isin(recommended_list, bought_list))[0]\n",
        "    if len(relevant_indexes) == 0:\n",
        "        return 0\n",
        "    amount_relevant = len(relevant_indexes)\n",
        "\n",
        "\n",
        "    sum_ = sum(\n",
        "        [precision_at_k(recommended_list, bought_list, k=index_relevant + 1) for index_relevant in relevant_indexes])\n",
        "    return sum_ / amount_relevant"
      ]
    }
  ]
}